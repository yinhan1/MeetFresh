{
 "cells": [
  {
   "cell_type": "code",
   "execution_count": 1,
   "metadata": {},
   "outputs": [],
   "source": [
    "import time\n",
    "import os\n",
    "import re\n",
    "import numpy as np\n",
    "import pandas as pd\n",
    "\n",
    "from IPython.core.interactiveshell import InteractiveShell\n",
    "InteractiveShell.ast_node_interactivity = 'all'\n",
    "\n",
    "os.chdir('/home/s44grp/shared/s44hy/mrv3')"
   ]
  },
  {
   "cell_type": "code",
   "execution_count": 3,
   "metadata": {
    "scrolled": true
   },
   "outputs": [],
   "source": [
    "import sys\n",
    "sys.path.insert(1, '/opt/anaconda/anaconda-2.0.0/envs/PY36_R35/lib/python3.6/site-packages')\n",
    "import tensorflow\n",
    "from keras.preprocessing import image\n",
    "from keras.preprocessing.image import ImageDataGenerator"
   ]
  },
  {
   "cell_type": "markdown",
   "metadata": {},
   "source": [
    "## Part 1: Load Image"
   ]
  },
  {
   "cell_type": "code",
   "execution_count": 8,
   "metadata": {},
   "outputs": [
    {
     "name": "stdout",
     "output_type": "stream",
     "text": [
      "Found 21534 images belonging to 2 classes.\n",
      "Found 2236 images belonging to 2 classes.\n"
     ]
    }
   ],
   "source": [
    "EPOCHS = 20\n",
    "BATCH_SIZE = 50\n",
    "LR_RT = 1e-4\n",
    "IMG_DIR = 'scripts3/test_cnn/converted_imagesPearson_full'\n",
    "MODEL_DIR = 'scripts3/test_cnn/model_full'\n",
    "\n",
    "train = ImageDataGenerator(rescale = 1./255)\n",
    "train_dataset = train.flow_from_directory(\n",
    "    directory = IMG_DIR + '/data/train',\n",
    "    target_size = (38,38),\n",
    "    batch_size = BATCH_SIZE,\n",
    "    class_mode = 'categorical',\n",
    "    shuffle = True)\n",
    "\n",
    "valid = ImageDataGenerator(rescale = 1./255)\n",
    "valid_dataset = train.flow_from_directory(\n",
    "    directory = IMG_DIR + '/data/valid',\n",
    "    target_size = (38,38),\n",
    "    batch_size = BATCH_SIZE,\n",
    "    class_mode = 'categorical',\n",
    "    shuffle = False)"
   ]
  },
  {
   "cell_type": "markdown",
   "metadata": {},
   "source": [
    "## Part 2: CNN Modeling\n",
    "### step 1: architecture"
   ]
  },
  {
   "cell_type": "code",
   "execution_count": 9,
   "metadata": {},
   "outputs": [],
   "source": [
    "from keras.models import Sequential\n",
    "from keras.layers import Conv2D, BatchNormalization, ZeroPadding2D, MaxPooling2D\n",
    "from keras.layers import Flatten, Dense, Dropout\n",
    "from keras.regularizers import l1, l2, l1_l2\n",
    "from keras.optimizers import RMSprop, Adam\n",
    "\n",
    "model = Sequential()\n",
    "\n",
    "model.add(Conv2D(16,(3,3), activation='relu', padding='same', input_shape=(38,38,3)))\n",
    "model.add(Conv2D(16,(3,3), activation='relu', padding='same', use_bias=True))\n",
    "model.add(BatchNormalization())\n",
    "model.add(ZeroPadding2D())\n",
    "\n",
    "model.add(Conv2D(32,(3,3), activation='relu', padding='same', use_bias=True))\n",
    "model.add(Conv2D(32,(3,3), activation='relu', padding='same', use_bias=True))\n",
    "model.add(BatchNormalization())\n",
    "\n",
    "model.add(Conv2D(64,(3,3), activation='relu', padding='same', use_bias=True))\n",
    "model.add(Conv2D(64,(3,3), activation='relu', padding='same', use_bias=True))\n",
    "model.add(BatchNormalization())\n",
    "model.add(MaxPooling2D((2,2)))\n",
    "model.add(ZeroPadding2D())\n",
    "\n",
    "model.add(Conv2D(128,(3,3), activation='relu', padding='same', use_bias=True))\n",
    "model.add(Conv2D(128,(3,3), activation='relu', padding='same', use_bias=True))\n",
    "model.add(BatchNormalization())\n",
    "\n",
    "model.add(Conv2D(64,(3,3), activation='relu', padding='same', use_bias=True))\n",
    "model.add(Conv2D(64,(3,3), activation='relu', padding='same', use_bias=True))\n",
    "model.add(Conv2D(64,(3,3), activation='relu', padding='same', use_bias=True))\n",
    "model.add(BatchNormalization())\n",
    "\n",
    "model.add(Conv2D(64,(3,3), activation='relu', padding='same', use_bias=True))\n",
    "model.add(Conv2D(64,(3,3), activation='relu', padding='same', use_bias=True))\n",
    "model.add(Conv2D(64,(3,3), activation='relu', padding='same', use_bias=True))\n",
    "model.add(BatchNormalization())\n",
    "\n",
    "model.add(Flatten())\n",
    "model.add(Dense(128, activation='relu', use_bias=True))\n",
    "model.add(Dropout(0.2))\n",
    "model.add(Dense(64, activation='relu', use_bias=True))\n",
    "model.add(Dropout(0.2))\n",
    "model.add(Dense(32, activation='relu', use_bias=True))\n",
    "model.add(Dropout(0.2))\n",
    "model.add(Dense(2, activation='sigmoid'))\n",
    "\n",
    "model.compile(optimizer = RMSprop(lr = LR_RT), \n",
    "              loss = 'binary_crossentropy',   \n",
    "              metrics = ['accuracy']) # to evaluate only"
   ]
  },
  {
   "cell_type": "markdown",
   "metadata": {},
   "source": [
    "### step 2: callbacks"
   ]
  },
  {
   "cell_type": "code",
   "execution_count": 10,
   "metadata": {},
   "outputs": [],
   "source": [
    "from keras.callbacks import ReduceLROnPlateau, ModelCheckpoint\n",
    "\n",
    "reduce_lr = ReduceLROnPlateau(\n",
    "    monitor = 'val_loss',\n",
    "    factor = 0.2,\n",
    "    patience = 3, \n",
    "    min_lr = 1e-7)\n",
    "\n",
    "checkpoint = ModelCheckpoint(\n",
    "    filepath = os.path.join(MODEL_DIR, 'model_{epoch:02d}.h5'),\n",
    "    monitor = 'val_acc',\n",
    "    save_best_only = False,\n",
    "    save_weights_only = False)"
   ]
  },
  {
   "cell_type": "markdown",
   "metadata": {},
   "source": [
    "### step 3: train"
   ]
  },
  {
   "cell_type": "code",
   "execution_count": 11,
   "metadata": {
    "scrolled": true
   },
   "outputs": [
    {
     "name": "stdout",
     "output_type": "stream",
     "text": [
      "Epoch 1/20\n",
      "430/430 [==============================] - 372s 865ms/step - loss: 0.6649 - acc: 0.6119 - val_loss: 0.6081 - val_acc: 0.6698\n",
      "Epoch 2/20\n",
      "430/430 [==============================] - 364s 846ms/step - loss: 0.6328 - acc: 0.6494 - val_loss: 0.6108 - val_acc: 0.6924\n",
      "Epoch 3/20\n",
      "430/430 [==============================] - 363s 844ms/step - loss: 0.6175 - acc: 0.6625 - val_loss: 0.6551 - val_acc: 0.6215\n",
      "Epoch 4/20\n",
      "430/430 [==============================] - 366s 850ms/step - loss: 0.6085 - acc: 0.6739 - val_loss: 0.6446 - val_acc: 0.6818\n",
      "Epoch 5/20\n",
      "430/430 [==============================] - 365s 849ms/step - loss: 0.5799 - acc: 0.7015 - val_loss: 0.5694 - val_acc: 0.7072\n",
      "Epoch 6/20\n",
      "430/430 [==============================] - 358s 832ms/step - loss: 0.5581 - acc: 0.7161 - val_loss: 0.5783 - val_acc: 0.7049\n",
      "Epoch 7/20\n",
      "430/430 [==============================] - 359s 835ms/step - loss: 0.5321 - acc: 0.7327 - val_loss: 0.5784 - val_acc: 0.7022\n",
      "Epoch 8/20\n",
      "430/430 [==============================] - 361s 839ms/step - loss: 0.4969 - acc: 0.7540 - val_loss: 0.5836 - val_acc: 0.6937\n",
      "Epoch 9/20\n",
      "430/430 [==============================] - 361s 839ms/step - loss: 0.4446 - acc: 0.7902 - val_loss: 0.5983 - val_acc: 0.6946\n",
      "Epoch 10/20\n",
      "430/430 [==============================] - 361s 840ms/step - loss: 0.4210 - acc: 0.8051 - val_loss: 0.6088 - val_acc: 0.6951\n",
      "Epoch 11/20\n",
      "430/430 [==============================] - 361s 839ms/step - loss: 0.4029 - acc: 0.8172 - val_loss: 0.6280 - val_acc: 0.6917\n",
      "Epoch 12/20\n",
      "430/430 [==============================] - 361s 840ms/step - loss: 0.3823 - acc: 0.8302 - val_loss: 0.6383 - val_acc: 0.6846\n",
      "Epoch 13/20\n",
      "430/430 [==============================] - 360s 837ms/step - loss: 0.3808 - acc: 0.8308 - val_loss: 0.6342 - val_acc: 0.6885\n",
      "Epoch 14/20\n",
      "430/430 [==============================] - 357s 830ms/step - loss: 0.3734 - acc: 0.8377 - val_loss: 0.6423 - val_acc: 0.6855\n",
      "Epoch 15/20\n",
      "430/430 [==============================] - 338s 785ms/step - loss: 0.3723 - acc: 0.8382 - val_loss: 0.6402 - val_acc: 0.6857\n",
      "Epoch 16/20\n",
      "430/430 [==============================] - 276s 641ms/step - loss: 0.3680 - acc: 0.8392 - val_loss: 0.6483 - val_acc: 0.6825\n",
      "Epoch 17/20\n",
      "430/430 [==============================] - 276s 641ms/step - loss: 0.3667 - acc: 0.8407 - val_loss: 0.6437 - val_acc: 0.6860\n",
      "Epoch 18/20\n",
      "430/430 [==============================] - 276s 642ms/step - loss: 0.3641 - acc: 0.8420 - val_loss: 0.6499 - val_acc: 0.6825\n",
      "Epoch 19/20\n",
      "430/430 [==============================] - 276s 641ms/step - loss: 0.3659 - acc: 0.8414 - val_loss: 0.6484 - val_acc: 0.6837\n",
      "Epoch 20/20\n",
      "430/430 [==============================] - 276s 641ms/step - loss: 0.3677 - acc: 0.8396 - val_loss: 0.6472 - val_acc: 0.6869\n"
     ]
    },
    {
     "data": {
      "text/plain": [
       "<keras.callbacks.History at 0x7efbf65fe5f8>"
      ]
     },
     "execution_count": 11,
     "metadata": {},
     "output_type": "execute_result"
    },
    {
     "name": "stdout",
     "output_type": "stream",
     "text": [
      "Running Time: 1.8879154955678517 hrs.\n"
     ]
    }
   ],
   "source": [
    "start = time.time()\n",
    "model.fit_generator(\n",
    "    train_dataset, \n",
    "    steps_per_epoch = train_dataset.n // BATCH_SIZE, \n",
    "    epochs = EPOCHS, \n",
    "    validation_data = valid_dataset,\n",
    "    validation_steps = valid_dataset.n // BATCH_SIZE,\n",
    "    callbacks = [reduce_lr, checkpoint])\n",
    "end = time.time()\n",
    "print(f'Running Time: {(end - start)/3600} hrs.')"
   ]
  },
  {
   "cell_type": "code",
   "execution_count": 18,
   "metadata": {},
   "outputs": [
    {
     "data": {
      "image/png": "[encoded data removed]",
      "text/plain": [
       "<Figure size 1080x360 with 2 Axes>"
      ]
     },
     "metadata": {
      "needs_background": "light"
     },
     "output_type": "display_data"
    }
   ],
   "source": [
    "import matplotlib.pyplot as plt\n",
    "\n",
    "history = model.history\n",
    "fig, ax = plt.subplots(1, 2, figsize = (15,5))\n",
    "_= ax[0].set_title('Model Loss')\n",
    "_= ax[0].plot(history.epoch, history.history['loss'], label = 'Train Loss')\n",
    "_= ax[0].plot(history.epoch, history.history['val_loss'], label = 'Validation Loss')\n",
    "_= ax[0].set_ylabel('Loss')\n",
    "_= ax[0].set_xlabel('Epoch')\n",
    "_= ax[0].legend()\n",
    "_= ax[1].set_title('Model Accuracy')\n",
    "_= ax[1].plot(history.epoch, history.history['acc'], label = 'Train Accuracy')\n",
    "_= ax[1].plot(history.epoch, history.history['val_acc'], label = 'Validation Accuracy')\n",
    "_= ax[1].set_ylabel('Accuracy')\n",
    "_= ax[1].set_xlabel('Epoch')\n",
    "_= ax[1].legend()\n",
    "plt.show()"
   ]
  },
  {
   "cell_type": "markdown",
   "metadata": {},
   "source": [
    "### step 5: predict "
   ]
  },
  {
   "cell_type": "code",
   "execution_count": 19,
   "metadata": {},
   "outputs": [],
   "source": [
    "from keras.models import load_model\n",
    "# model = load_model(MODEL_DIR + '/model_20.h5')\n",
    "\n",
    "valid_dataset.reset()\n",
    "probs = model.predict_generator(valid_dataset, valid_dataset.n/valid_dataset.batch_size)\n",
    "preds = np.argmax(probs, axis = 1)\n",
    "\n",
    "# labels = (train_dataset.class_indices)\n",
    "# labels2 = dict((v,k) for k, v in labels.items())\n",
    "# predictions = [labels2[k] for k in preds]\n",
    "# results = pd.DataFrame({'image ID': valid_dataset.filenames, 'Predictions': predictions})"
   ]
  },
  {
   "cell_type": "markdown",
   "metadata": {},
   "source": [
    "### step 6: evaluate"
   ]
  },
  {
   "cell_type": "code",
   "execution_count": 20,
   "metadata": {},
   "outputs": [
    {
     "name": "stdout",
     "output_type": "stream",
     "text": [
      "ROC_AUC = 0.6839236795616888\n",
      "Cohen Kappa = 0.3677573240633054\n",
      "Precision= 0.6842168316506383\n",
      "Recall = 0.6839236795616888\n",
      "specificity = 0.7050359712230215\n",
      "sensitivity = 0.6628113879003559\n"
     ]
    }
   ],
   "source": [
    "from sklearn.metrics import roc_auc_score, cohen_kappa_score, precision_score, \\\n",
    "recall_score, confusion_matrix\n",
    "\n",
    "yvalid = valid_dataset.classes\n",
    "\n",
    "print(\"ROC_AUC = {}\".format(roc_auc_score(yvalid, preds)))\n",
    "print(\"Cohen Kappa = {}\".format(cohen_kappa_score(yvalid, preds)))\n",
    "print(\"Precision= {}\".format(precision_score(yvalid, preds, average='macro')))\n",
    "print(\"Recall = {}\".format(recall_score(yvalid, preds, average='macro')))\n",
    "\n",
    "tn, fp, fn, tp = confusion_matrix(yvalid, preds).ravel()\n",
    "specificity = tn / (tn+fp)\n",
    "sensitivity= tp / (tp+ fn)\n",
    "print(\"specificity = {}\".format(specificity))\n",
    "print(\"sensitivity = {}\".format(sensitivity))"
   ]
  },
  {
   "cell_type": "code",
   "execution_count": null,
   "metadata": {},
   "outputs": [],
   "source": []
  }
 ],
 "metadata": {
  "kernelspec": {
   "display_name": "Python 3",
   "language": "python",
   "name": "python3"
  },
  "language_info": {
   "codemirror_mode": {
    "name": "ipython",
    "version": 3
   },
   "file_extension": ".py",
   "mimetype": "text/x-python",
   "name": "python",
   "nbconvert_exporter": "python",
   "pygments_lexer": "ipython3",
   "version": "3.8.8"
  }
 },
 "nbformat": 4,
 "nbformat_minor": 2
}
