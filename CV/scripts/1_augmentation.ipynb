{
 "cells": [
  {
   "cell_type": "markdown",
   "id": "1fe09357",
   "metadata": {},
   "source": [
    "*Last Edited: 06/07/2022*"
   ]
  },
  {
   "cell_type": "code",
   "execution_count": 1,
   "id": "1a00c671",
   "metadata": {},
   "outputs": [],
   "source": [
    "import os\n",
    "import time\n",
    "import numpy as np\n",
    "import pandas as pd\n",
    "\n",
    "from skimage import io\n",
    "from PIL import Image\n",
    "\n",
    "from keras.preprocessing import image\n",
    "from keras.preprocessing.image import ImageDataGenerator\n",
    "\n",
    "from IPython.core.interactiveshell import InteractiveShell\n",
    "InteractiveShell.ast_node_interactivity = 'all'\n",
    "\n",
    "os.chdir('/Users/hanyin')"
   ]
  },
  {
   "cell_type": "markdown",
   "id": "d54f214c",
   "metadata": {},
   "source": [
    "### Step 1: Prepare Data"
   ]
  },
  {
   "cell_type": "code",
   "execution_count": 2,
   "id": "5f14d132",
   "metadata": {},
   "outputs": [],
   "source": [
    "## extract item names \n",
    "data_path = 'meetfresh_data/orig'\n",
    "items = [f.split('.')[0] for f in os.listdir(data_path) \\\n",
    "         if os.path.isfile(os.path.join(data_path, f))]"
   ]
  },
  {
   "cell_type": "code",
   "execution_count": 3,
   "id": "0035e162",
   "metadata": {},
   "outputs": [
    {
     "name": "stderr",
     "output_type": "stream",
     "text": [
      "Copying files: 854 files [00:07, 111.56 files/s]\n"
     ]
    }
   ],
   "source": [
    "## split train, valid, test\n",
    "import splitfolders\n",
    "\n",
    "splitfolders.ratio('meetfresh_data/orig', output = 'meetfresh_data', seed = 2022, ratio = (.8, 0.1, 0.1)) "
   ]
  },
  {
   "cell_type": "markdown",
   "id": "32f0ec94",
   "metadata": {},
   "source": [
    "### Step 2: Augment Training\n",
    "#### (a) create functions"
   ]
  },
  {
   "cell_type": "code",
   "execution_count": 4,
   "id": "e95a57b3",
   "metadata": {},
   "outputs": [],
   "source": [
    "import glob\n",
    "from datetime import datetime as dtdt\n",
    "\n",
    "def augment_img(generator, item, batch_size, image_size = 256):\n",
    "    \n",
    "    ## in/out folders \n",
    "    input_folder = IN_DIR + item\n",
    "    output_folder = OUT_DIR + item\n",
    "    \n",
    "    ## orig images\n",
    "    dataset = []\n",
    "    images = os.listdir(input_folder)\n",
    "    for i, image in enumerate(images):    \n",
    "        if (image.split('.')[1] == 'JPG'):        \n",
    "            image = io.imread(input_folder + '/' + image)        \n",
    "            image = Image.fromarray(image, 'RGB')        \n",
    "            image = image.resize((image_size, image_size)) \n",
    "            dataset.append(np.array(image))\n",
    "    x = np.array(dataset)\n",
    "    \n",
    "    ## check output folder \n",
    "    if not os.path.exists(output_folder):\n",
    "        os.makedirs(output_folder)\n",
    "    else: \n",
    "        files = glob.glob(output_folder + '/*')\n",
    "        for f in files:\n",
    "            os.remove(f)\n",
    "            \n",
    "    ## augment images\n",
    "    i = 0\n",
    "    for batch in datagen.flow(\n",
    "        x, batch_size = batch_size, \n",
    "        save_to_dir = output_folder, save_prefix = 'aug', save_format = 'jpg'):    \n",
    "        i += 1    \n",
    "        if i > 100:        \n",
    "            break            \n",
    "    print(f'{item}:  created {len(glob.glob(output_folder + \"/*\"))} images by {len(images)}   @   {dtdt.now()}')"
   ]
  },
  {
   "cell_type": "markdown",
   "id": "a72392a7",
   "metadata": {},
   "source": [
    "#### (b) implement function"
   ]
  },
  {
   "cell_type": "code",
   "execution_count": 5,
   "id": "605c24d5",
   "metadata": {
    "scrolled": true
   },
   "outputs": [],
   "source": [
    "IN_DIR = 'meetfresh_data/train/'\n",
    "OUT_DIR = 'meetfresh_data/train_aug/'\n",
    "\n",
    "datagen = ImageDataGenerator(\n",
    "    rotation_range = 15,\n",
    "    width_shift_range = 0.2, \n",
    "    height_shift_range = 0.2, \n",
    "    rescale = 1./255, \n",
    "    shear_range = 0.2, \n",
    "    zoom_range = [0.3, 0.7], \n",
    "    horizontal_flip = True, \n",
    "    fill_mode = 'nearest', \n",
    "    data_format = 'channels_last', \n",
    "    brightness_range = [0.5, 1.5]) "
   ]
  },
  {
   "cell_type": "code",
   "execution_count": 6,
   "id": "b26dccd6",
   "metadata": {},
   "outputs": [
    {
     "name": "stdout",
     "output_type": "stream",
     "text": [
      "杏仁布丁:  created 1482 images by 44   @   2022-06-07 10:01:32.694646\n",
      "仙草1号:  created 1349 images by 40   @   2022-06-07 10:02:07.199485\n",
      "抹茶鸡蛋仔:  created 1383 images by 41   @   2022-06-07 10:02:51.272096\n",
      "小芋圆冬瓜茶:  created 1515 images by 45   @   2022-06-07 10:03:39.913611\n",
      "焦糖布丁:  created 1463 images by 58   @   2022-06-07 10:25:03.753662\n",
      "小芋圆豆花:  created 1290 images by 51   @   2022-06-07 10:25:40.139280\n",
      "鲜奶巧克力黑糖珍珠奶茶:  created 1513 images by 45   @   2022-06-07 10:26:38.319486\n",
      "双芋招牌:  created 1351 images by 40   @   2022-06-07 10:27:15.271464\n",
      "小芋圆奶茶:  created 1480 images by 44   @   2022-06-07 10:28:10.361219\n",
      "芋圆6号:  created 1264 images by 50   @   2022-06-07 10:28:49.301295\n",
      "仙草4号:  created 1482 images by 44   @   2022-06-07 10:29:33.035390\n",
      "芋圆招牌:  created 1550 images by 46   @   2022-06-07 10:30:15.604906\n",
      "Q麻薯拼盘:  created 1316 images by 39   @   2022-06-07 10:31:02.924913\n",
      "绿豆糕:  created 1613 images by 48   @   2022-06-07 10:31:54.762784\n",
      "原味冰淇凌鸡蛋仔:  created 1417 images by 42   @   2022-06-07 10:32:48.543643\n"
     ]
    }
   ],
   "source": [
    "for item in items: \n",
    "    augment_img(generator = datagen, item = item, batch_size = 16)"
   ]
  },
  {
   "cell_type": "code",
   "execution_count": null,
   "id": "2af4e327",
   "metadata": {},
   "outputs": [],
   "source": []
  }
 ],
 "metadata": {
  "kernelspec": {
   "display_name": "Python 3",
   "language": "python",
   "name": "python3"
  },
  "language_info": {
   "codemirror_mode": {
    "name": "ipython",
    "version": 3
   },
   "file_extension": ".py",
   "mimetype": "text/x-python",
   "name": "python",
   "nbconvert_exporter": "python",
   "pygments_lexer": "ipython3",
   "version": "3.8.8"
  }
 },
 "nbformat": 4,
 "nbformat_minor": 5
}
