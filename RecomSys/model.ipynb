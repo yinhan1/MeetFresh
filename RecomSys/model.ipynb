{
 "cells": [
  {
   "cell_type": "code",
   "execution_count": 3,
   "metadata": {},
   "outputs": [],
   "source": [
    "import pandas as pd \n",
    "import numpy as np \n",
    "import time \n",
    "import turicreate as  tc \n",
    "from sklearn.model_selection import train_test_split "
   ]
  },
  {
   "cell_type": "code",
   "execution_count": 9,
   "metadata": {
    "scrolled": true
   },
   "outputs": [
    {
     "data": {
      "text/html": [
       "<div>\n",
       "<style scoped>\n",
       "    .dataframe tbody tr th:only-of-type {\n",
       "        vertical-align: middle;\n",
       "    }\n",
       "\n",
       "    .dataframe tbody tr th {\n",
       "        vertical-align: top;\n",
       "    }\n",
       "\n",
       "    .dataframe thead th {\n",
       "        text-align: right;\n",
       "    }\n",
       "</style>\n",
       "<table border=\"1\" class=\"dataframe\">\n",
       "  <thead>\n",
       "    <tr style=\"text-align: right;\">\n",
       "      <th></th>\n",
       "      <th>Date</th>\n",
       "      <th>Customer_ID</th>\n",
       "      <th>Transaction_ID</th>\n",
       "      <th>SKU_Category_x</th>\n",
       "      <th>SKU</th>\n",
       "      <th>Quantity</th>\n",
       "      <th>Sales_Amount</th>\n",
       "      <th>SKU_Category_y</th>\n",
       "      <th>Menu_Category</th>\n",
       "      <th>Item_ID</th>\n",
       "      <th>Sex</th>\n",
       "      <th>Weather</th>\n",
       "      <th>Zip_cd</th>\n",
       "    </tr>\n",
       "  </thead>\n",
       "  <tbody>\n",
       "    <tr>\n",
       "      <th>0</th>\n",
       "      <td>2016-01-02</td>\n",
       "      <td>3686</td>\n",
       "      <td>3</td>\n",
       "      <td>0H2</td>\n",
       "      <td>CZUZX</td>\n",
       "      <td>1.0</td>\n",
       "      <td>6.35</td>\n",
       "      <td>0H2</td>\n",
       "      <td>Fruit Series</td>\n",
       "      <td>FS1</td>\n",
       "      <td>male</td>\n",
       "      <td>windy</td>\n",
       "      <td>70573</td>\n",
       "    </tr>\n",
       "    <tr>\n",
       "      <th>1</th>\n",
       "      <td>2016-01-02</td>\n",
       "      <td>1253</td>\n",
       "      <td>8</td>\n",
       "      <td>0H2</td>\n",
       "      <td>9STQJ</td>\n",
       "      <td>1.0</td>\n",
       "      <td>8.25</td>\n",
       "      <td>0H2</td>\n",
       "      <td>Fruit Series</td>\n",
       "      <td>FS3</td>\n",
       "      <td>female</td>\n",
       "      <td>sunny</td>\n",
       "      <td>70577</td>\n",
       "    </tr>\n",
       "    <tr>\n",
       "      <th>2</th>\n",
       "      <td>2016-01-02</td>\n",
       "      <td>7548</td>\n",
       "      <td>10</td>\n",
       "      <td>N8U</td>\n",
       "      <td>UNJKW</td>\n",
       "      <td>1.0</td>\n",
       "      <td>2.11</td>\n",
       "      <td>N8U</td>\n",
       "      <td>Signature Series</td>\n",
       "      <td>SS1</td>\n",
       "      <td>male</td>\n",
       "      <td>sunny</td>\n",
       "      <td>70562</td>\n",
       "    </tr>\n",
       "    <tr>\n",
       "      <th>3</th>\n",
       "      <td>2016-01-02</td>\n",
       "      <td>6044</td>\n",
       "      <td>12</td>\n",
       "      <td>N8U</td>\n",
       "      <td>EMJ1S</td>\n",
       "      <td>1.0</td>\n",
       "      <td>3.62</td>\n",
       "      <td>N8U</td>\n",
       "      <td>Signature Series</td>\n",
       "      <td>SS6</td>\n",
       "      <td>male</td>\n",
       "      <td>sunny</td>\n",
       "      <td>70566</td>\n",
       "    </tr>\n",
       "    <tr>\n",
       "      <th>4</th>\n",
       "      <td>2016-01-02</td>\n",
       "      <td>592</td>\n",
       "      <td>13</td>\n",
       "      <td>P42</td>\n",
       "      <td>B2IW9</td>\n",
       "      <td>1.0</td>\n",
       "      <td>9.00</td>\n",
       "      <td>P42</td>\n",
       "      <td>Fresh Milk</td>\n",
       "      <td>FM9</td>\n",
       "      <td>male</td>\n",
       "      <td>sunny</td>\n",
       "      <td>70571</td>\n",
       "    </tr>\n",
       "  </tbody>\n",
       "</table>\n",
       "</div>"
      ],
      "text/plain": [
       "        Date  Customer_ID  Transaction_ID SKU_Category_x    SKU  Quantity  \\\n",
       "0 2016-01-02         3686               3            0H2  CZUZX       1.0   \n",
       "1 2016-01-02         1253               8            0H2  9STQJ       1.0   \n",
       "2 2016-01-02         7548              10            N8U  UNJKW       1.0   \n",
       "3 2016-01-02         6044              12            N8U  EMJ1S       1.0   \n",
       "4 2016-01-02          592              13            P42  B2IW9       1.0   \n",
       "\n",
       "   Sales_Amount SKU_Category_y     Menu_Category Item_ID     Sex Weather  \\\n",
       "0          6.35            0H2      Fruit Series     FS1    male   windy   \n",
       "1          8.25            0H2      Fruit Series     FS3  female   sunny   \n",
       "2          2.11            N8U  Signature Series     SS1    male   sunny   \n",
       "3          3.62            N8U  Signature Series     SS6    male   sunny   \n",
       "4          9.00            P42        Fresh Milk     FM9    male   sunny   \n",
       "\n",
       "   Zip_cd  \n",
       "0   70573  \n",
       "1   70577  \n",
       "2   70562  \n",
       "3   70566  \n",
       "4   70571  "
      ]
     },
     "execution_count": 9,
     "metadata": {},
     "output_type": "execute_result"
    }
   ],
   "source": [
    "df = pd.read_excel('filtered_retail.xlsx', index_col = 0)\n",
    "pre_len = len(df)\n",
    "df.head()"
   ]
  },
  {
   "cell_type": "code",
   "execution_count": 10,
   "metadata": {},
   "outputs": [
    {
     "name": "stdout",
     "output_type": "stream",
     "text": [
      "10 Row is deleted because of the float number in Quantity column\n"
     ]
    }
   ],
   "source": [
    "# Quantity will be the number of items be purchased in each transaction\n",
    "# filter out float number\n",
    "df = df[df.Quantity>=1]\n",
    "df.Quantity = df.Quantity.astype(int)\n",
    "post_len = len(df)\n",
    "print('{} Row is deleted because of the float number in Quantity column'\n",
    "      .format(pre_len-post_len))"
   ]
  },
  {
   "cell_type": "code",
   "execution_count": 11,
   "metadata": {},
   "outputs": [
    {
     "name": "stdout",
     "output_type": "stream",
     "text": [
      "There are 11916 unique ID in the transaction data\n",
      "There are 8276 ID order equal or less than twice\n"
     ]
    }
   ],
   "source": [
    "# review how many customerID in the transaction data\n",
    "C_ID_list = df.Customer_ID.value_counts()\n",
    "total_ID_nb = len(C_ID_list)\n",
    "ID_nb_smaller_2 = len(np.where(C_ID_list<=2)[0])\n",
    "print('There are {} unique ID in the transaction data'.format(total_ID_nb))\n",
    "print('There are {} ID order equal or less than twice'.format(ID_nb_smaller_2))"
   ]
  },
  {
   "cell_type": "code",
   "execution_count": 12,
   "metadata": {},
   "outputs": [
    {
     "data": {
      "text/html": [
       "<div>\n",
       "<style scoped>\n",
       "    .dataframe tbody tr th:only-of-type {\n",
       "        vertical-align: middle;\n",
       "    }\n",
       "\n",
       "    .dataframe tbody tr th {\n",
       "        vertical-align: top;\n",
       "    }\n",
       "\n",
       "    .dataframe thead th {\n",
       "        text-align: right;\n",
       "    }\n",
       "</style>\n",
       "<table border=\"1\" class=\"dataframe\">\n",
       "  <thead>\n",
       "    <tr style=\"text-align: right;\">\n",
       "      <th></th>\n",
       "      <th>Customer_ID</th>\n",
       "      <th>Zip_cd</th>\n",
       "      <th>Weather</th>\n",
       "      <th>Menu_Category</th>\n",
       "      <th>Quantity</th>\n",
       "    </tr>\n",
       "  </thead>\n",
       "  <tbody>\n",
       "    <tr>\n",
       "      <th>0</th>\n",
       "      <td>4</td>\n",
       "      <td>70576</td>\n",
       "      <td>windy</td>\n",
       "      <td>Egg Waffle</td>\n",
       "      <td>1</td>\n",
       "    </tr>\n",
       "    <tr>\n",
       "      <th>1</th>\n",
       "      <td>5</td>\n",
       "      <td>70572</td>\n",
       "      <td>windy</td>\n",
       "      <td>Fresh Milk</td>\n",
       "      <td>3</td>\n",
       "    </tr>\n",
       "    <tr>\n",
       "      <th>2</th>\n",
       "      <td>5</td>\n",
       "      <td>70573</td>\n",
       "      <td>sunny</td>\n",
       "      <td>Fresh Milk</td>\n",
       "      <td>4</td>\n",
       "    </tr>\n",
       "    <tr>\n",
       "      <th>3</th>\n",
       "      <td>5</td>\n",
       "      <td>70574</td>\n",
       "      <td>sunny</td>\n",
       "      <td>Fresh Milk</td>\n",
       "      <td>2</td>\n",
       "    </tr>\n",
       "    <tr>\n",
       "      <th>4</th>\n",
       "      <td>5</td>\n",
       "      <td>70577</td>\n",
       "      <td>sunny</td>\n",
       "      <td>Fresh Milk</td>\n",
       "      <td>4</td>\n",
       "    </tr>\n",
       "    <tr>\n",
       "      <th>...</th>\n",
       "      <td>...</td>\n",
       "      <td>...</td>\n",
       "      <td>...</td>\n",
       "      <td>...</td>\n",
       "      <td>...</td>\n",
       "    </tr>\n",
       "    <tr>\n",
       "      <th>32236</th>\n",
       "      <td>22615</td>\n",
       "      <td>70579</td>\n",
       "      <td>windy</td>\n",
       "      <td>Small Bites</td>\n",
       "      <td>1</td>\n",
       "    </tr>\n",
       "    <tr>\n",
       "      <th>32237</th>\n",
       "      <td>22616</td>\n",
       "      <td>70572</td>\n",
       "      <td>windy</td>\n",
       "      <td>Fresh Milk</td>\n",
       "      <td>1</td>\n",
       "    </tr>\n",
       "    <tr>\n",
       "      <th>32238</th>\n",
       "      <td>22621</td>\n",
       "      <td>70563</td>\n",
       "      <td>cloudy</td>\n",
       "      <td>Dessert Combo</td>\n",
       "      <td>2</td>\n",
       "    </tr>\n",
       "    <tr>\n",
       "      <th>32239</th>\n",
       "      <td>22621</td>\n",
       "      <td>70563</td>\n",
       "      <td>windy</td>\n",
       "      <td>Dessert Combo</td>\n",
       "      <td>1</td>\n",
       "    </tr>\n",
       "    <tr>\n",
       "      <th>32240</th>\n",
       "      <td>22622</td>\n",
       "      <td>70573</td>\n",
       "      <td>cloudy</td>\n",
       "      <td>Fresh Milk</td>\n",
       "      <td>1</td>\n",
       "    </tr>\n",
       "  </tbody>\n",
       "</table>\n",
       "<p>32241 rows × 5 columns</p>\n",
       "</div>"
      ],
      "text/plain": [
       "       Customer_ID  Zip_cd Weather  Menu_Category  Quantity\n",
       "0                4   70576   windy     Egg Waffle         1\n",
       "1                5   70572   windy     Fresh Milk         3\n",
       "2                5   70573   sunny     Fresh Milk         4\n",
       "3                5   70574   sunny     Fresh Milk         2\n",
       "4                5   70577   sunny     Fresh Milk         4\n",
       "...            ...     ...     ...            ...       ...\n",
       "32236        22615   70579   windy    Small Bites         1\n",
       "32237        22616   70572   windy     Fresh Milk         1\n",
       "32238        22621   70563  cloudy  Dessert Combo         2\n",
       "32239        22621   70563   windy  Dessert Combo         1\n",
       "32240        22622   70573  cloudy     Fresh Milk         1\n",
       "\n",
       "[32241 rows x 5 columns]"
      ]
     },
     "execution_count": 12,
     "metadata": {},
     "output_type": "execute_result"
    }
   ],
   "source": [
    "aggregated_table = df.groupby(['Customer_ID', 'Zip_cd', 'Weather', 'Menu_Category']).sum().drop(['Transaction_ID', 'Sales_Amount'], axis=1).reset_index()\n",
    "aggregated_table"
   ]
  },
  {
   "cell_type": "code",
   "execution_count": 14,
   "metadata": {},
   "outputs": [],
   "source": [
    "# the model refer: https://apple.github.io/turicreate/docs/api/generated/turicreate.recommender.util.compare_models.html#turicreate.recommender.util.compare_models\n",
    "# and https://medium.datadriveninvestor.com/how-to-build-a-recommendation-system-for-purchase-data-step-by-step-d6d7a78800b6\n",
    "def recommender(data, algo, user_id, item_id, target, n_recom, n_show):\n",
    "    if algo == 'popularity':\n",
    "        model = tc.popularity_recommender.create(data, \n",
    "                                                 user_id=user_id, \n",
    "                                                 item_id=item_id, \n",
    "                                                 target=target)\n",
    "    elif algo == 'cosine':\n",
    "        model = tc.item_similarity_recommender.create(data, \n",
    "                                                      user_id=user_id, \n",
    "                                                      item_id=item_id, \n",
    "                                                      target=target, \n",
    "                                                      similarity_type='cosine')\n",
    "    elif algo == 'pearson':\n",
    "        model = tc.item_similarity_recommender.create(data, \n",
    "                                                      user_id=user_id, \n",
    "                                                      item_id=item_id, \n",
    "                                                      target=target, \n",
    "                                                      similarity_type='pearson')\n",
    "        \n",
    "    recom = model.recommend(k=n_recom)\n",
    "#     recom.print_rows(n_show)\n",
    "    return model, recom"
   ]
  },
  {
   "cell_type": "code",
   "execution_count": 51,
   "metadata": {},
   "outputs": [
    {
     "data": {
      "text/html": [
       "<div>\n",
       "<style scoped>\n",
       "    .dataframe tbody tr th:only-of-type {\n",
       "        vertical-align: middle;\n",
       "    }\n",
       "\n",
       "    .dataframe tbody tr th {\n",
       "        vertical-align: top;\n",
       "    }\n",
       "\n",
       "    .dataframe thead th {\n",
       "        text-align: right;\n",
       "    }\n",
       "</style>\n",
       "<table border=\"1\" class=\"dataframe\">\n",
       "  <thead>\n",
       "    <tr style=\"text-align: right;\">\n",
       "      <th></th>\n",
       "      <th>Customer_ID</th>\n",
       "      <th>Item_ID</th>\n",
       "      <th>Quantity</th>\n",
       "    </tr>\n",
       "  </thead>\n",
       "  <tbody>\n",
       "    <tr>\n",
       "      <th>0</th>\n",
       "      <td>4</td>\n",
       "      <td>EW6</td>\n",
       "      <td>1</td>\n",
       "    </tr>\n",
       "    <tr>\n",
       "      <th>1</th>\n",
       "      <td>5</td>\n",
       "      <td>FM2</td>\n",
       "      <td>4</td>\n",
       "    </tr>\n",
       "    <tr>\n",
       "      <th>2</th>\n",
       "      <td>11</td>\n",
       "      <td>TP7</td>\n",
       "      <td>1</td>\n",
       "    </tr>\n",
       "    <tr>\n",
       "      <th>3</th>\n",
       "      <td>13</td>\n",
       "      <td>TP9</td>\n",
       "      <td>1</td>\n",
       "    </tr>\n",
       "    <tr>\n",
       "      <th>4</th>\n",
       "      <td>14</td>\n",
       "      <td>F1</td>\n",
       "      <td>1</td>\n",
       "    </tr>\n",
       "  </tbody>\n",
       "</table>\n",
       "</div>"
      ],
      "text/plain": [
       "   Customer_ID Item_ID  Quantity\n",
       "0            4     EW6         1\n",
       "1            5     FM2         4\n",
       "2           11     TP7         1\n",
       "3           13     TP9         1\n",
       "4           14      F1         1"
      ]
     },
     "execution_count": 51,
     "metadata": {},
     "output_type": "execute_result"
    }
   ],
   "source": [
    "tmp.head()"
   ]
  },
  {
   "cell_type": "code",
   "execution_count": 56,
   "metadata": {
    "scrolled": true
   },
   "outputs": [
    {
     "data": {
      "text/html": [
       "<pre>Preparing data set.</pre>"
      ],
      "text/plain": [
       "Preparing data set."
      ]
     },
     "metadata": {},
     "output_type": "display_data"
    },
    {
     "data": {
      "text/html": [
       "<pre>    Data has 20408 observations with 10546 users and 147 items.</pre>"
      ],
      "text/plain": [
       "    Data has 20408 observations with 10546 users and 147 items."
      ]
     },
     "metadata": {},
     "output_type": "display_data"
    },
    {
     "data": {
      "text/html": [
       "<pre>    Data prepared in: 0.047736s</pre>"
      ],
      "text/plain": [
       "    Data prepared in: 0.047736s"
      ]
     },
     "metadata": {},
     "output_type": "display_data"
    },
    {
     "data": {
      "text/html": [
       "<pre>20408 observations to process; with 147 unique items.</pre>"
      ],
      "text/plain": [
       "20408 observations to process; with 147 unique items."
      ]
     },
     "metadata": {},
     "output_type": "display_data"
    },
    {
     "data": {
      "text/html": [
       "<pre>recommendations finished on 1000/10546 queries. users per second: 400000</pre>"
      ],
      "text/plain": [
       "recommendations finished on 1000/10546 queries. users per second: 400000"
      ]
     },
     "metadata": {},
     "output_type": "display_data"
    },
    {
     "data": {
      "text/html": [
       "<pre>recommendations finished on 2000/10546 queries. users per second: 604230</pre>"
      ],
      "text/plain": [
       "recommendations finished on 2000/10546 queries. users per second: 604230"
      ]
     },
     "metadata": {},
     "output_type": "display_data"
    },
    {
     "data": {
      "text/html": [
       "<pre>recommendations finished on 3000/10546 queries. users per second: 760649</pre>"
      ],
      "text/plain": [
       "recommendations finished on 3000/10546 queries. users per second: 760649"
      ]
     },
     "metadata": {},
     "output_type": "display_data"
    },
    {
     "data": {
      "text/html": [
       "<pre>recommendations finished on 4000/10546 queries. users per second: 870511</pre>"
      ],
      "text/plain": [
       "recommendations finished on 4000/10546 queries. users per second: 870511"
      ]
     },
     "metadata": {},
     "output_type": "display_data"
    },
    {
     "data": {
      "text/html": [
       "<pre>recommendations finished on 5000/10546 queries. users per second: 948947</pre>"
      ],
      "text/plain": [
       "recommendations finished on 5000/10546 queries. users per second: 948947"
      ]
     },
     "metadata": {},
     "output_type": "display_data"
    },
    {
     "data": {
      "text/html": [
       "<pre>recommendations finished on 6000/10546 queries. users per second: 1.01454e+06</pre>"
      ],
      "text/plain": [
       "recommendations finished on 6000/10546 queries. users per second: 1.01454e+06"
      ]
     },
     "metadata": {},
     "output_type": "display_data"
    },
    {
     "data": {
      "text/html": [
       "<pre>recommendations finished on 7000/10546 queries. users per second: 1.06887e+06</pre>"
      ],
      "text/plain": [
       "recommendations finished on 7000/10546 queries. users per second: 1.06887e+06"
      ]
     },
     "metadata": {},
     "output_type": "display_data"
    },
    {
     "data": {
      "text/html": [
       "<pre>recommendations finished on 8000/10546 queries. users per second: 1.10238e+06</pre>"
      ],
      "text/plain": [
       "recommendations finished on 8000/10546 queries. users per second: 1.10238e+06"
      ]
     },
     "metadata": {},
     "output_type": "display_data"
    },
    {
     "data": {
      "text/html": [
       "<pre>recommendations finished on 9000/10546 queries. users per second: 1.12122e+06</pre>"
      ],
      "text/plain": [
       "recommendations finished on 9000/10546 queries. users per second: 1.12122e+06"
      ]
     },
     "metadata": {},
     "output_type": "display_data"
    },
    {
     "data": {
      "text/html": [
       "<pre>recommendations finished on 10000/10546 queries. users per second: 1.14508e+06</pre>"
      ],
      "text/plain": [
       "recommendations finished on 10000/10546 queries. users per second: 1.14508e+06"
      ]
     },
     "metadata": {},
     "output_type": "display_data"
    },
    {
     "data": {
      "text/html": [
       "<pre>Preparing data set.</pre>"
      ],
      "text/plain": [
       "Preparing data set."
      ]
     },
     "metadata": {},
     "output_type": "display_data"
    },
    {
     "data": {
      "text/html": [
       "<pre>    Data has 20408 observations with 10546 users and 147 items.</pre>"
      ],
      "text/plain": [
       "    Data has 20408 observations with 10546 users and 147 items."
      ]
     },
     "metadata": {},
     "output_type": "display_data"
    },
    {
     "data": {
      "text/html": [
       "<pre>    Data prepared in: 0.095117s</pre>"
      ],
      "text/plain": [
       "    Data prepared in: 0.095117s"
      ]
     },
     "metadata": {},
     "output_type": "display_data"
    },
    {
     "data": {
      "text/html": [
       "<pre>Training model from provided data.</pre>"
      ],
      "text/plain": [
       "Training model from provided data."
      ]
     },
     "metadata": {},
     "output_type": "display_data"
    },
    {
     "data": {
      "text/html": [
       "<pre>Gathering per-item and per-user statistics.</pre>"
      ],
      "text/plain": [
       "Gathering per-item and per-user statistics."
      ]
     },
     "metadata": {},
     "output_type": "display_data"
    },
    {
     "data": {
      "text/html": [
       "<pre>+--------------------------------+------------+</pre>"
      ],
      "text/plain": [
       "+--------------------------------+------------+"
      ]
     },
     "metadata": {},
     "output_type": "display_data"
    },
    {
     "data": {
      "text/html": [
       "<pre>| Elapsed Time (Item Statistics) | % Complete |</pre>"
      ],
      "text/plain": [
       "| Elapsed Time (Item Statistics) | % Complete |"
      ]
     },
     "metadata": {},
     "output_type": "display_data"
    },
    {
     "data": {
      "text/html": [
       "<pre>+--------------------------------+------------+</pre>"
      ],
      "text/plain": [
       "+--------------------------------+------------+"
      ]
     },
     "metadata": {},
     "output_type": "display_data"
    },
    {
     "data": {
      "text/html": [
       "<pre>| 906us                          | 9.25       |</pre>"
      ],
      "text/plain": [
       "| 906us                          | 9.25       |"
      ]
     },
     "metadata": {},
     "output_type": "display_data"
    },
    {
     "data": {
      "text/html": [
       "<pre>| 2.82ms                         | 100        |</pre>"
      ],
      "text/plain": [
       "| 2.82ms                         | 100        |"
      ]
     },
     "metadata": {},
     "output_type": "display_data"
    },
    {
     "data": {
      "text/html": [
       "<pre>+--------------------------------+------------+</pre>"
      ],
      "text/plain": [
       "+--------------------------------+------------+"
      ]
     },
     "metadata": {},
     "output_type": "display_data"
    },
    {
     "data": {
      "text/html": [
       "<pre>Setting up lookup tables.</pre>"
      ],
      "text/plain": [
       "Setting up lookup tables."
      ]
     },
     "metadata": {},
     "output_type": "display_data"
    },
    {
     "data": {
      "text/html": [
       "<pre>Processing data in one pass using dense lookup tables.</pre>"
      ],
      "text/plain": [
       "Processing data in one pass using dense lookup tables."
      ]
     },
     "metadata": {},
     "output_type": "display_data"
    },
    {
     "data": {
      "text/html": [
       "<pre>+-------------------------------------+------------------+-----------------+</pre>"
      ],
      "text/plain": [
       "+-------------------------------------+------------------+-----------------+"
      ]
     },
     "metadata": {},
     "output_type": "display_data"
    },
    {
     "data": {
      "text/html": [
       "<pre>| Elapsed Time (Constructing Lookups) | Total % Complete | Items Processed |</pre>"
      ],
      "text/plain": [
       "| Elapsed Time (Constructing Lookups) | Total % Complete | Items Processed |"
      ]
     },
     "metadata": {},
     "output_type": "display_data"
    },
    {
     "data": {
      "text/html": [
       "<pre>+-------------------------------------+------------------+-----------------+</pre>"
      ],
      "text/plain": [
       "+-------------------------------------+------------------+-----------------+"
      ]
     },
     "metadata": {},
     "output_type": "display_data"
    },
    {
     "data": {
      "text/html": [
       "<pre>| 3.453ms                             | 0                | 0               |</pre>"
      ],
      "text/plain": [
       "| 3.453ms                             | 0                | 0               |"
      ]
     },
     "metadata": {},
     "output_type": "display_data"
    },
    {
     "data": {
      "text/html": [
       "<pre>| 19.836ms                            | 100              | 147             |</pre>"
      ],
      "text/plain": [
       "| 19.836ms                            | 100              | 147             |"
      ]
     },
     "metadata": {},
     "output_type": "display_data"
    },
    {
     "data": {
      "text/html": [
       "<pre>+-------------------------------------+------------------+-----------------+</pre>"
      ],
      "text/plain": [
       "+-------------------------------------+------------------+-----------------+"
      ]
     },
     "metadata": {},
     "output_type": "display_data"
    },
    {
     "data": {
      "text/html": [
       "<pre>Finalizing lookup tables.</pre>"
      ],
      "text/plain": [
       "Finalizing lookup tables."
      ]
     },
     "metadata": {},
     "output_type": "display_data"
    },
    {
     "data": {
      "text/html": [
       "<pre>Generating candidate set for working with new users.</pre>"
      ],
      "text/plain": [
       "Generating candidate set for working with new users."
      ]
     },
     "metadata": {},
     "output_type": "display_data"
    },
    {
     "data": {
      "text/html": [
       "<pre>Finished training in 0.04931s</pre>"
      ],
      "text/plain": [
       "Finished training in 0.04931s"
      ]
     },
     "metadata": {},
     "output_type": "display_data"
    },
    {
     "data": {
      "text/html": [
       "<pre>recommendations finished on 1000/10546 queries. users per second: 237869</pre>"
      ],
      "text/plain": [
       "recommendations finished on 1000/10546 queries. users per second: 237869"
      ]
     },
     "metadata": {},
     "output_type": "display_data"
    },
    {
     "data": {
      "text/html": [
       "<pre>recommendations finished on 2000/10546 queries. users per second: 339789</pre>"
      ],
      "text/plain": [
       "recommendations finished on 2000/10546 queries. users per second: 339789"
      ]
     },
     "metadata": {},
     "output_type": "display_data"
    },
    {
     "data": {
      "text/html": [
       "<pre>recommendations finished on 3000/10546 queries. users per second: 362319</pre>"
      ],
      "text/plain": [
       "recommendations finished on 3000/10546 queries. users per second: 362319"
      ]
     },
     "metadata": {},
     "output_type": "display_data"
    },
    {
     "data": {
      "text/html": [
       "<pre>recommendations finished on 4000/10546 queries. users per second: 389826</pre>"
      ],
      "text/plain": [
       "recommendations finished on 4000/10546 queries. users per second: 389826"
      ]
     },
     "metadata": {},
     "output_type": "display_data"
    },
    {
     "data": {
      "text/html": [
       "<pre>recommendations finished on 5000/10546 queries. users per second: 424052</pre>"
      ],
      "text/plain": [
       "recommendations finished on 5000/10546 queries. users per second: 424052"
      ]
     },
     "metadata": {},
     "output_type": "display_data"
    },
    {
     "data": {
      "text/html": [
       "<pre>recommendations finished on 6000/10546 queries. users per second: 431065</pre>"
      ],
      "text/plain": [
       "recommendations finished on 6000/10546 queries. users per second: 431065"
      ]
     },
     "metadata": {},
     "output_type": "display_data"
    },
    {
     "data": {
      "text/html": [
       "<pre>recommendations finished on 7000/10546 queries. users per second: 416171</pre>"
      ],
      "text/plain": [
       "recommendations finished on 7000/10546 queries. users per second: 416171"
      ]
     },
     "metadata": {},
     "output_type": "display_data"
    },
    {
     "data": {
      "text/html": [
       "<pre>recommendations finished on 8000/10546 queries. users per second: 370079</pre>"
      ],
      "text/plain": [
       "recommendations finished on 8000/10546 queries. users per second: 370079"
      ]
     },
     "metadata": {},
     "output_type": "display_data"
    },
    {
     "data": {
      "text/html": [
       "<pre>recommendations finished on 9000/10546 queries. users per second: 348055</pre>"
      ],
      "text/plain": [
       "recommendations finished on 9000/10546 queries. users per second: 348055"
      ]
     },
     "metadata": {},
     "output_type": "display_data"
    },
    {
     "data": {
      "text/html": [
       "<pre>recommendations finished on 10000/10546 queries. users per second: 324286</pre>"
      ],
      "text/plain": [
       "recommendations finished on 10000/10546 queries. users per second: 324286"
      ]
     },
     "metadata": {},
     "output_type": "display_data"
    },
    {
     "data": {
      "text/html": [
       "<pre>Preparing data set.</pre>"
      ],
      "text/plain": [
       "Preparing data set."
      ]
     },
     "metadata": {},
     "output_type": "display_data"
    },
    {
     "data": {
      "text/html": [
       "<pre>    Data has 20408 observations with 10546 users and 147 items.</pre>"
      ],
      "text/plain": [
       "    Data has 20408 observations with 10546 users and 147 items."
      ]
     },
     "metadata": {},
     "output_type": "display_data"
    },
    {
     "data": {
      "text/html": [
       "<pre>    Data prepared in: 0.059158s</pre>"
      ],
      "text/plain": [
       "    Data prepared in: 0.059158s"
      ]
     },
     "metadata": {},
     "output_type": "display_data"
    },
    {
     "data": {
      "text/html": [
       "<pre>Training model from provided data.</pre>"
      ],
      "text/plain": [
       "Training model from provided data."
      ]
     },
     "metadata": {},
     "output_type": "display_data"
    },
    {
     "data": {
      "text/html": [
       "<pre>Gathering per-item and per-user statistics.</pre>"
      ],
      "text/plain": [
       "Gathering per-item and per-user statistics."
      ]
     },
     "metadata": {},
     "output_type": "display_data"
    },
    {
     "data": {
      "text/html": [
       "<pre>+--------------------------------+------------+</pre>"
      ],
      "text/plain": [
       "+--------------------------------+------------+"
      ]
     },
     "metadata": {},
     "output_type": "display_data"
    },
    {
     "data": {
      "text/html": [
       "<pre>| Elapsed Time (Item Statistics) | % Complete |</pre>"
      ],
      "text/plain": [
       "| Elapsed Time (Item Statistics) | % Complete |"
      ]
     },
     "metadata": {},
     "output_type": "display_data"
    },
    {
     "data": {
      "text/html": [
       "<pre>+--------------------------------+------------+</pre>"
      ],
      "text/plain": [
       "+--------------------------------+------------+"
      ]
     },
     "metadata": {},
     "output_type": "display_data"
    },
    {
     "data": {
      "text/html": [
       "<pre>| 1.519ms                        | 9.25       |</pre>"
      ],
      "text/plain": [
       "| 1.519ms                        | 9.25       |"
      ]
     },
     "metadata": {},
     "output_type": "display_data"
    },
    {
     "data": {
      "text/html": [
       "<pre>| 3.409ms                        | 100        |</pre>"
      ],
      "text/plain": [
       "| 3.409ms                        | 100        |"
      ]
     },
     "metadata": {},
     "output_type": "display_data"
    },
    {
     "data": {
      "text/html": [
       "<pre>+--------------------------------+------------+</pre>"
      ],
      "text/plain": [
       "+--------------------------------+------------+"
      ]
     },
     "metadata": {},
     "output_type": "display_data"
    },
    {
     "data": {
      "text/html": [
       "<pre>Setting up lookup tables.</pre>"
      ],
      "text/plain": [
       "Setting up lookup tables."
      ]
     },
     "metadata": {},
     "output_type": "display_data"
    },
    {
     "data": {
      "text/html": [
       "<pre>Processing data in one pass using dense lookup tables.</pre>"
      ],
      "text/plain": [
       "Processing data in one pass using dense lookup tables."
      ]
     },
     "metadata": {},
     "output_type": "display_data"
    },
    {
     "data": {
      "text/html": [
       "<pre>+-------------------------------------+------------------+-----------------+</pre>"
      ],
      "text/plain": [
       "+-------------------------------------+------------------+-----------------+"
      ]
     },
     "metadata": {},
     "output_type": "display_data"
    },
    {
     "data": {
      "text/html": [
       "<pre>| Elapsed Time (Constructing Lookups) | Total % Complete | Items Processed |</pre>"
      ],
      "text/plain": [
       "| Elapsed Time (Constructing Lookups) | Total % Complete | Items Processed |"
      ]
     },
     "metadata": {},
     "output_type": "display_data"
    },
    {
     "data": {
      "text/html": [
       "<pre>+-------------------------------------+------------------+-----------------+</pre>"
      ],
      "text/plain": [
       "+-------------------------------------+------------------+-----------------+"
      ]
     },
     "metadata": {},
     "output_type": "display_data"
    },
    {
     "data": {
      "text/html": [
       "<pre>| 3.865ms                             | 0                | 0               |</pre>"
      ],
      "text/plain": [
       "| 3.865ms                             | 0                | 0               |"
      ]
     },
     "metadata": {},
     "output_type": "display_data"
    },
    {
     "data": {
      "text/html": [
       "<pre>| 7.738ms                             | 100              | 147             |</pre>"
      ],
      "text/plain": [
       "| 7.738ms                             | 100              | 147             |"
      ]
     },
     "metadata": {},
     "output_type": "display_data"
    },
    {
     "data": {
      "text/html": [
       "<pre>+-------------------------------------+------------------+-----------------+</pre>"
      ],
      "text/plain": [
       "+-------------------------------------+------------------+-----------------+"
      ]
     },
     "metadata": {},
     "output_type": "display_data"
    },
    {
     "data": {
      "text/html": [
       "<pre>Finalizing lookup tables.</pre>"
      ],
      "text/plain": [
       "Finalizing lookup tables."
      ]
     },
     "metadata": {},
     "output_type": "display_data"
    },
    {
     "data": {
      "text/html": [
       "<pre>Generating candidate set for working with new users.</pre>"
      ],
      "text/plain": [
       "Generating candidate set for working with new users."
      ]
     },
     "metadata": {},
     "output_type": "display_data"
    },
    {
     "data": {
      "text/html": [
       "<pre>Finished training in 0.014762s</pre>"
      ],
      "text/plain": [
       "Finished training in 0.014762s"
      ]
     },
     "metadata": {},
     "output_type": "display_data"
    },
    {
     "data": {
      "text/html": [
       "<pre>recommendations finished on 1000/10546 queries. users per second: 289855</pre>"
      ],
      "text/plain": [
       "recommendations finished on 1000/10546 queries. users per second: 289855"
      ]
     },
     "metadata": {},
     "output_type": "display_data"
    },
    {
     "data": {
      "text/html": [
       "<pre>recommendations finished on 2000/10546 queries. users per second: 424448</pre>"
      ],
      "text/plain": [
       "recommendations finished on 2000/10546 queries. users per second: 424448"
      ]
     },
     "metadata": {},
     "output_type": "display_data"
    },
    {
     "data": {
      "text/html": [
       "<pre>recommendations finished on 3000/10546 queries. users per second: 516618</pre>"
      ],
      "text/plain": [
       "recommendations finished on 3000/10546 queries. users per second: 516618"
      ]
     },
     "metadata": {},
     "output_type": "display_data"
    },
    {
     "data": {
      "text/html": [
       "<pre>recommendations finished on 4000/10546 queries. users per second: 543404</pre>"
      ],
      "text/plain": [
       "recommendations finished on 4000/10546 queries. users per second: 543404"
      ]
     },
     "metadata": {},
     "output_type": "display_data"
    },
    {
     "data": {
      "text/html": [
       "<pre>recommendations finished on 5000/10546 queries. users per second: 586441</pre>"
      ],
      "text/plain": [
       "recommendations finished on 5000/10546 queries. users per second: 586441"
      ]
     },
     "metadata": {},
     "output_type": "display_data"
    },
    {
     "data": {
      "text/html": [
       "<pre>recommendations finished on 6000/10546 queries. users per second: 620732</pre>"
      ],
      "text/plain": [
       "recommendations finished on 6000/10546 queries. users per second: 620732"
      ]
     },
     "metadata": {},
     "output_type": "display_data"
    },
    {
     "data": {
      "text/html": [
       "<pre>recommendations finished on 7000/10546 queries. users per second: 629553</pre>"
      ],
      "text/plain": [
       "recommendations finished on 7000/10546 queries. users per second: 629553"
      ]
     },
     "metadata": {},
     "output_type": "display_data"
    },
    {
     "data": {
      "text/html": [
       "<pre>recommendations finished on 8000/10546 queries. users per second: 631463</pre>"
      ],
      "text/plain": [
       "recommendations finished on 8000/10546 queries. users per second: 631463"
      ]
     },
     "metadata": {},
     "output_type": "display_data"
    },
    {
     "data": {
      "text/html": [
       "<pre>recommendations finished on 9000/10546 queries. users per second: 638343</pre>"
      ],
      "text/plain": [
       "recommendations finished on 9000/10546 queries. users per second: 638343"
      ]
     },
     "metadata": {},
     "output_type": "display_data"
    },
    {
     "data": {
      "text/html": [
       "<pre>recommendations finished on 10000/10546 queries. users per second: 626488</pre>"
      ],
      "text/plain": [
       "recommendations finished on 10000/10546 queries. users per second: 626488"
      ]
     },
     "metadata": {},
     "output_type": "display_data"
    }
   ],
   "source": [
    "input_col = 'Customer_ID'\n",
    "output_col = 'Item_ID'\n",
    "\n",
    "tmp = df.groupby([input_col, output_col]).size().reset_index(name = 'Quantity')\n",
    "df_matrix = pd.pivot_table(tmp, values = 'Quantity', index = input_col, columns = output_col)\n",
    "df_matrix_norm = (df_matrix - df_matrix.min()) / (df_matrix.max() - df_matrix.min())\n",
    "\n",
    "d = df_matrix_norm.reset_index() \n",
    "d.index.names = ['scaled_Quantity'] \n",
    "data_norm = pd.melt(d, id_vars = [input_col], value_name = 'scaled_Quantity').dropna()\n",
    "\n",
    "train, test = train_test_split(data_norm, test_size = 0.2, random_state = 2022)\n",
    "\n",
    "def setup_recomm(data, input_col, method, n_r = 1, n_s = 10):\n",
    "    return recommender(tc.SFrame(data), method, input_col, output_col, 'scaled_Quantity', n_r, n_s)\n",
    "\n",
    "pop1, pop2 = setup_recomm(train, input_col, 'popularity')\n",
    "cos1, cos2 = setup_recomm(train, input_col, 'cosine')\n",
    "ps1, ps2 = setup_recomm(train, input_col, 'pearson')"
   ]
  },
  {
   "cell_type": "code",
   "execution_count": 57,
   "metadata": {
    "scrolled": true
   },
   "outputs": [
    {
     "name": "stdout",
     "output_type": "stream",
     "text": [
      "PROGRESS: Evaluate model popularity\n"
     ]
    },
    {
     "data": {
      "text/html": [
       "<pre>recommendations finished on 1000/4086 queries. users per second: 71017.7</pre>"
      ],
      "text/plain": [
       "recommendations finished on 1000/4086 queries. users per second: 71017.7"
      ]
     },
     "metadata": {},
     "output_type": "display_data"
    },
    {
     "data": {
      "text/html": [
       "<pre>recommendations finished on 2000/4086 queries. users per second: 64815.1</pre>"
      ],
      "text/plain": [
       "recommendations finished on 2000/4086 queries. users per second: 64815.1"
      ]
     },
     "metadata": {},
     "output_type": "display_data"
    },
    {
     "data": {
      "text/html": [
       "<pre>recommendations finished on 3000/4086 queries. users per second: 64318.3</pre>"
      ],
      "text/plain": [
       "recommendations finished on 3000/4086 queries. users per second: 64318.3"
      ]
     },
     "metadata": {},
     "output_type": "display_data"
    },
    {
     "data": {
      "text/html": [
       "<pre>recommendations finished on 4000/4086 queries. users per second: 62771.7</pre>"
      ],
      "text/plain": [
       "recommendations finished on 4000/4086 queries. users per second: 62771.7"
      ]
     },
     "metadata": {},
     "output_type": "display_data"
    },
    {
     "name": "stdout",
     "output_type": "stream",
     "text": [
      "\n",
      "Precision and recall summary statistics by cutoff\n",
      "+--------+-----------------------+-----------------------+\n",
      "| cutoff |     mean_precision    |      mean_recall      |\n",
      "+--------+-----------------------+-----------------------+\n",
      "|   1    |  0.002692119432207538 | 0.0020802741067058256 |\n",
      "|   2    |  0.002202643171806169 |  0.003324359601892644 |\n",
      "|   3    | 0.0025289606787404144 |  0.005384238864415075 |\n",
      "|   4    | 0.0030592266275085663 |  0.008941099689998374 |\n",
      "|   5    | 0.0030347528144884952 |  0.011102953173437756 |\n",
      "|   6    | 0.0029776472507750023 |  0.013069016152716594 |\n",
      "|   7    | 0.0027270820222362055 |  0.013844020231685438 |\n",
      "|   8    | 0.0025085658345570276 |  0.01463941915483766  |\n",
      "|   9    | 0.0024745744275847027 |  0.01631179637787568  |\n",
      "|   10   | 0.0023250122369065035 |  0.017168379833578086 |\n",
      "+--------+-----------------------+-----------------------+\n",
      "[10 rows x 3 columns]\n",
      "\n",
      "\n",
      "Overall RMSE: 0.15698594114285516\n",
      "\n",
      "Per User RMSE (best)\n",
      "+-------------+-----------------------+-------+\n",
      "| Customer_ID |          rmse         | count |\n",
      "+-------------+-----------------------+-------+\n",
      "|    10352    | 0.0037792894935752552 |   1   |\n",
      "+-------------+-----------------------+-------+\n",
      "[1 rows x 3 columns]\n",
      "\n",
      "\n",
      "Per User RMSE (worst)\n",
      "+-------------+-----------+-------+\n",
      "| Customer_ID |    rmse   | count |\n",
      "+-------------+-----------+-------+\n",
      "|    15965    | 0.9921875 |   1   |\n",
      "+-------------+-----------+-------+\n",
      "[1 rows x 3 columns]\n",
      "\n",
      "\n",
      "Per Item RMSE (best)\n",
      "+---------+---------------------+-------+\n",
      "| Item_ID |         rmse        | count |\n",
      "+---------+---------------------+-------+\n",
      "|   TP7   | 0.01834862385321101 |   27  |\n",
      "+---------+---------------------+-------+\n",
      "[1 rows x 3 columns]\n",
      "\n",
      "\n",
      "Per Item RMSE (worst)\n",
      "+---------+--------------------+-------+\n",
      "| Item_ID |        rmse        | count |\n",
      "+---------+--------------------+-------+\n",
      "|   SI16  | 0.4662019848278635 |   4   |\n",
      "+---------+--------------------+-------+\n",
      "[1 rows x 3 columns]\n",
      "\n",
      "PROGRESS: Evaluate model cosine\n"
     ]
    },
    {
     "data": {
      "text/html": [
       "<pre>recommendations finished on 1000/4086 queries. users per second: 117330</pre>"
      ],
      "text/plain": [
       "recommendations finished on 1000/4086 queries. users per second: 117330"
      ]
     },
     "metadata": {},
     "output_type": "display_data"
    },
    {
     "data": {
      "text/html": [
       "<pre>recommendations finished on 2000/4086 queries. users per second: 87723.1</pre>"
      ],
      "text/plain": [
       "recommendations finished on 2000/4086 queries. users per second: 87723.1"
      ]
     },
     "metadata": {},
     "output_type": "display_data"
    },
    {
     "data": {
      "text/html": [
       "<pre>recommendations finished on 3000/4086 queries. users per second: 71421.8</pre>"
      ],
      "text/plain": [
       "recommendations finished on 3000/4086 queries. users per second: 71421.8"
      ]
     },
     "metadata": {},
     "output_type": "display_data"
    },
    {
     "data": {
      "text/html": [
       "<pre>recommendations finished on 4000/4086 queries. users per second: 68030.7</pre>"
      ],
      "text/plain": [
       "recommendations finished on 4000/4086 queries. users per second: 68030.7"
      ]
     },
     "metadata": {},
     "output_type": "display_data"
    },
    {
     "name": "stdout",
     "output_type": "stream",
     "text": [
      "\n",
      "Precision and recall summary statistics by cutoff\n",
      "+--------+----------------------+----------------------+\n",
      "| cutoff |    mean_precision    |     mean_recall      |\n",
      "+--------+----------------------+----------------------+\n",
      "|   1    | 0.00905531081742536  | 0.006447101601286625 |\n",
      "|   2    | 0.015785609397944208 | 0.024042413506437006 |\n",
      "|   3    | 0.015500081579376766 | 0.03453352135437299  |\n",
      "|   4    | 0.017192853646598158 | 0.052271597168807186 |\n",
      "|   5    | 0.02266275085658355  | 0.08713862278473143  |\n",
      "|   6    | 0.021129058573992516 | 0.09736459765828336  |\n",
      "|   7    | 0.019369274875882803 | 0.10347897194446382  |\n",
      "|   8    | 0.018263582966226155 | 0.11135818008064699  |\n",
      "|   9    | 0.017566759123293692 | 0.11997976054510558  |\n",
      "|   10   | 0.017205090553108187 |  0.1301445508861076  |\n",
      "+--------+----------------------+----------------------+\n",
      "[10 rows x 3 columns]\n",
      "\n",
      "\n",
      "Overall RMSE: 0.16758427485254948\n",
      "\n",
      "Per User RMSE (best)\n",
      "+-------------+------+-------+\n",
      "| Customer_ID | rmse | count |\n",
      "+-------------+------+-------+\n",
      "|     8605    | 0.0  |   1   |\n",
      "+-------------+------+-------+\n",
      "[1 rows x 3 columns]\n",
      "\n",
      "\n",
      "Per User RMSE (worst)\n",
      "+-------------+------+-------+\n",
      "| Customer_ID | rmse | count |\n",
      "+-------------+------+-------+\n",
      "|    20656    | 1.0  |   1   |\n",
      "+-------------+------+-------+\n",
      "[1 rows x 3 columns]\n",
      "\n",
      "\n",
      "Per Item RMSE (best)\n",
      "+---------+------+-------+\n",
      "| Item_ID | rmse | count |\n",
      "+---------+------+-------+\n",
      "|   FM11  | 0.0  |   14  |\n",
      "+---------+------+-------+\n",
      "[1 rows x 3 columns]\n",
      "\n",
      "\n",
      "Per Item RMSE (worst)\n",
      "+---------+--------------------+-------+\n",
      "| Item_ID |        rmse        | count |\n",
      "+---------+--------------------+-------+\n",
      "|   SI16  | 0.5558767998449065 |   4   |\n",
      "+---------+--------------------+-------+\n",
      "[1 rows x 3 columns]\n",
      "\n",
      "PROGRESS: Evaluate model pearson\n"
     ]
    },
    {
     "data": {
      "text/html": [
       "<pre>recommendations finished on 1000/4086 queries. users per second: 91608.6</pre>"
      ],
      "text/plain": [
       "recommendations finished on 1000/4086 queries. users per second: 91608.6"
      ]
     },
     "metadata": {},
     "output_type": "display_data"
    },
    {
     "data": {
      "text/html": [
       "<pre>recommendations finished on 2000/4086 queries. users per second: 86214.3</pre>"
      ],
      "text/plain": [
       "recommendations finished on 2000/4086 queries. users per second: 86214.3"
      ]
     },
     "metadata": {},
     "output_type": "display_data"
    },
    {
     "data": {
      "text/html": [
       "<pre>recommendations finished on 3000/4086 queries. users per second: 81475.2</pre>"
      ],
      "text/plain": [
       "recommendations finished on 3000/4086 queries. users per second: 81475.2"
      ]
     },
     "metadata": {},
     "output_type": "display_data"
    },
    {
     "data": {
      "text/html": [
       "<pre>recommendations finished on 4000/4086 queries. users per second: 75356.5</pre>"
      ],
      "text/plain": [
       "recommendations finished on 4000/4086 queries. users per second: 75356.5"
      ]
     },
     "metadata": {},
     "output_type": "display_data"
    },
    {
     "name": "stdout",
     "output_type": "stream",
     "text": [
      "\n",
      "Precision and recall summary statistics by cutoff\n",
      "+--------+-----------------------+-----------------------+\n",
      "| cutoff |     mean_precision    |      mean_recall      |\n",
      "+--------+-----------------------+-----------------------+\n",
      "|   1    |  0.002936857562408223 | 0.0022026431718061663 |\n",
      "|   2    | 0.0023250122369065113 | 0.0037934410181106218 |\n",
      "|   3    | 0.0027736988089411005 |  0.006118453255017128 |\n",
      "|   4    |  0.003059226627508566 |  0.008941099689998358 |\n",
      "|   5    |  0.002936857562408223 |  0.010735845978136734 |\n",
      "|   6    |  0.002977647250775001 |  0.013191385217816938 |\n",
      "|   7    |  0.002692119432207537 |  0.013762440854951874 |\n",
      "|   8    | 0.0025391581008321084 |  0.014884157285038332 |\n",
      "|   9    | 0.0024745744275847014 |   0.016434165442976   |\n",
      "|   10   |  0.002373959862946645 |  0.017657856093979466 |\n",
      "+--------+-----------------------+-----------------------+\n",
      "[10 rows x 3 columns]\n",
      "\n",
      "\n",
      "Overall RMSE: 0.15636881559735963\n",
      "\n",
      "Per User RMSE (best)\n",
      "+-------------+-----------------------+-------+\n",
      "| Customer_ID |          rmse         | count |\n",
      "+-------------+-----------------------+-------+\n",
      "|     5243    | 0.0024272143492224812 |   1   |\n",
      "+-------------+-----------------------+-------+\n",
      "[1 rows x 3 columns]\n",
      "\n",
      "\n",
      "Per User RMSE (worst)\n",
      "+-------------+--------------------+-------+\n",
      "| Customer_ID |        rmse        | count |\n",
      "+-------------+--------------------+-------+\n",
      "|    15965    | 0.9911244064569473 |   1   |\n",
      "+-------------+--------------------+-------+\n",
      "[1 rows x 3 columns]\n",
      "\n",
      "\n",
      "Per Item RMSE (best)\n",
      "+---------+----------------------+-------+\n",
      "| Item_ID |         rmse         | count |\n",
      "+---------+----------------------+-------+\n",
      "|   TP7   | 0.018609560986414295 |   27  |\n",
      "+---------+----------------------+-------+\n",
      "[1 rows x 3 columns]\n",
      "\n",
      "\n",
      "Per Item RMSE (worst)\n",
      "+---------+---------------------+-------+\n",
      "| Item_ID |         rmse        | count |\n",
      "+---------+---------------------+-------+\n",
      "|   SI16  | 0.46326877323560395 |   4   |\n",
      "+---------+---------------------+-------+\n",
      "[1 rows x 3 columns]\n",
      "\n"
     ]
    },
    {
     "data": {
      "text/plain": [
       "[{'precision_recall_by_user': Columns:\n",
       "  \tCustomer_ID\tint\n",
       "  \tcutoff\tint\n",
       "  \tprecision\tfloat\n",
       "  \trecall\tfloat\n",
       "  \tcount\tint\n",
       "  \n",
       "  Rows: 73548\n",
       "  \n",
       "  Data:\n",
       "  +-------------+--------+-----------+--------+-------+\n",
       "  | Customer_ID | cutoff | precision | recall | count |\n",
       "  +-------------+--------+-----------+--------+-------+\n",
       "  |    15523    |   1    |    0.0    |  0.0   |   2   |\n",
       "  |    15523    |   2    |    0.0    |  0.0   |   2   |\n",
       "  |    15523    |   3    |    0.0    |  0.0   |   2   |\n",
       "  |    15523    |   4    |    0.0    |  0.0   |   2   |\n",
       "  |    15523    |   5    |    0.0    |  0.0   |   2   |\n",
       "  |    15523    |   6    |    0.0    |  0.0   |   2   |\n",
       "  |    15523    |   7    |    0.0    |  0.0   |   2   |\n",
       "  |    15523    |   8    |    0.0    |  0.0   |   2   |\n",
       "  |    15523    |   9    |    0.0    |  0.0   |   2   |\n",
       "  |    15523    |   10   |    0.0    |  0.0   |   2   |\n",
       "  +-------------+--------+-----------+--------+-------+\n",
       "  [73548 rows x 5 columns]\n",
       "  Note: Only the head of the SFrame is printed.\n",
       "  You can use print_rows(num_rows=m, num_columns=n) to print more rows and columns.,\n",
       "  'precision_recall_overall': Columns:\n",
       "  \tcutoff\tint\n",
       "  \tprecision\tfloat\n",
       "  \trecall\tfloat\n",
       "  \n",
       "  Rows: 18\n",
       "  \n",
       "  Data:\n",
       "  +--------+-----------------------+-----------------------+\n",
       "  | cutoff |       precision       |         recall        |\n",
       "  +--------+-----------------------+-----------------------+\n",
       "  |   1    |  0.002692119432207538 |  0.002080274106705824 |\n",
       "  |   2    |  0.002202643171806167 | 0.0033243596018926423 |\n",
       "  |   3    | 0.0025289606787404157 |  0.005384238864415077 |\n",
       "  |   4    | 0.0030592266275085685 |  0.008941099689998356 |\n",
       "  |   5    |  0.003034752814488493 |  0.011102953173437754 |\n",
       "  |   6    |  0.002977647250775003 |  0.013069016152716594 |\n",
       "  |   7    | 0.0027270820222362086 |  0.013844020231685438 |\n",
       "  |   8    | 0.0025085658345570267 |  0.014639419154837657 |\n",
       "  |   9    | 0.0024745744275847027 |  0.016311796377875658 |\n",
       "  |   10   |  0.002325012236906506 |  0.017168379833578083 |\n",
       "  +--------+-----------------------+-----------------------+\n",
       "  [18 rows x 3 columns]\n",
       "  Note: Only the head of the SFrame is printed.\n",
       "  You can use print_rows(num_rows=m, num_columns=n) to print more rows and columns.,\n",
       "  'rmse_by_user': Columns:\n",
       "  \tCustomer_ID\tint\n",
       "  \trmse\tfloat\n",
       "  \tcount\tint\n",
       "  \n",
       "  Rows: 4086\n",
       "  \n",
       "  Data:\n",
       "  +-------------+----------------------+-------+\n",
       "  | Customer_ID |         rmse         | count |\n",
       "  +-------------+----------------------+-------+\n",
       "  |     5288    | 0.010312151616499444 |   1   |\n",
       "  |    18357    | 0.02782931354359927  |   1   |\n",
       "  |     118     | 0.09433962264150936  |   1   |\n",
       "  |     8324    | 0.01749599667872602  |   1   |\n",
       "  |    15863    | 0.010067114093959733 |   1   |\n",
       "  |    14406    |  0.0270961145194274  |   1   |\n",
       "  |    15927    | 0.08021978021978018  |   1   |\n",
       "  |    14388    | 0.06334225449858816  |   2   |\n",
       "  |     2043    | 0.05255878284923922  |   1   |\n",
       "  |    16820    | 0.017483843055330236 |   2   |\n",
       "  +-------------+----------------------+-------+\n",
       "  [4086 rows x 3 columns]\n",
       "  Note: Only the head of the SFrame is printed.\n",
       "  You can use print_rows(num_rows=m, num_columns=n) to print more rows and columns.,\n",
       "  'rmse_by_item': Columns:\n",
       "  \tItem_ID\tstr\n",
       "  \trmse\tfloat\n",
       "  \tcount\tint\n",
       "  \n",
       "  Rows: 147\n",
       "  \n",
       "  Data:\n",
       "  +---------+----------------------+-------+\n",
       "  | Item_ID |         rmse         | count |\n",
       "  +---------+----------------------+-------+\n",
       "  |    F3   |  0.1557977528493559  |   46  |\n",
       "  |    S1   | 0.16686826745422098  |   57  |\n",
       "  |   SB6   | 0.022727272727272724 |   22  |\n",
       "  |   TP17  |  0.3245604651685421  |   11  |\n",
       "  |    T7   | 0.30744473235174297  |   11  |\n",
       "  |   SB2   | 0.10305827232489795  |   24  |\n",
       "  |   TP15  | 0.05172413793103449  |   9   |\n",
       "  |   SI10  |  0.2919106712564914  |   11  |\n",
       "  |   MT15  | 0.15495917423312613  |   10  |\n",
       "  |   SI14  | 0.35298786983162034  |   6   |\n",
       "  +---------+----------------------+-------+\n",
       "  [147 rows x 3 columns]\n",
       "  Note: Only the head of the SFrame is printed.\n",
       "  You can use print_rows(num_rows=m, num_columns=n) to print more rows and columns.,\n",
       "  'rmse_overall': 0.15698594114285516},\n",
       " {'precision_recall_by_user': Columns:\n",
       "  \tCustomer_ID\tint\n",
       "  \tcutoff\tint\n",
       "  \tprecision\tfloat\n",
       "  \trecall\tfloat\n",
       "  \tcount\tint\n",
       "  \n",
       "  Rows: 73548\n",
       "  \n",
       "  Data:\n",
       "  +-------------+--------+-----------+--------+-------+\n",
       "  | Customer_ID | cutoff | precision | recall | count |\n",
       "  +-------------+--------+-----------+--------+-------+\n",
       "  |    15523    |   1    |    0.0    |  0.0   |   2   |\n",
       "  |    15523    |   2    |    0.0    |  0.0   |   2   |\n",
       "  |    15523    |   3    |    0.0    |  0.0   |   2   |\n",
       "  |    15523    |   4    |    0.0    |  0.0   |   2   |\n",
       "  |    15523    |   5    |    0.0    |  0.0   |   2   |\n",
       "  |    15523    |   6    |    0.0    |  0.0   |   2   |\n",
       "  |    15523    |   7    |    0.0    |  0.0   |   2   |\n",
       "  |    15523    |   8    |    0.0    |  0.0   |   2   |\n",
       "  |    15523    |   9    |    0.0    |  0.0   |   2   |\n",
       "  |    15523    |   10   |    0.0    |  0.0   |   2   |\n",
       "  +-------------+--------+-----------+--------+-------+\n",
       "  [73548 rows x 5 columns]\n",
       "  Note: Only the head of the SFrame is printed.\n",
       "  You can use print_rows(num_rows=m, num_columns=n) to print more rows and columns.,\n",
       "  'precision_recall_overall': Columns:\n",
       "  \tcutoff\tint\n",
       "  \tprecision\tfloat\n",
       "  \trecall\tfloat\n",
       "  \n",
       "  Rows: 18\n",
       "  \n",
       "  Data:\n",
       "  +--------+----------------------+----------------------+\n",
       "  | cutoff |      precision       |        recall        |\n",
       "  +--------+----------------------+----------------------+\n",
       "  |   1    | 0.009055310817425352 | 0.006447101601286621 |\n",
       "  |   2    | 0.015785609397944204 | 0.02404241350643699  |\n",
       "  |   3    | 0.015500081579376773 | 0.034533521354373015 |\n",
       "  |   4    | 0.017192853646598148 | 0.05227159716880718  |\n",
       "  |   5    | 0.022662750856583536 | 0.08713862278473146  |\n",
       "  |   6    |  0.0211290585739925  | 0.09736459765828341  |\n",
       "  |   7    | 0.019369274875882858 | 0.10347897194446387  |\n",
       "  |   8    | 0.018263582966226134 | 0.11135818008064699  |\n",
       "  |   9    | 0.017566759123293675 | 0.11997976054510555  |\n",
       "  |   10   | 0.017205090553108197 | 0.13014455088610755  |\n",
       "  +--------+----------------------+----------------------+\n",
       "  [18 rows x 3 columns]\n",
       "  Note: Only the head of the SFrame is printed.\n",
       "  You can use print_rows(num_rows=m, num_columns=n) to print more rows and columns.,\n",
       "  'rmse_by_user': Columns:\n",
       "  \tCustomer_ID\tint\n",
       "  \trmse\tfloat\n",
       "  \tcount\tint\n",
       "  \n",
       "  Rows: 4086\n",
       "  \n",
       "  Data:\n",
       "  +-------------+-----------------------+-------+\n",
       "  | Customer_ID |          rmse         | count |\n",
       "  +-------------+-----------------------+-------+\n",
       "  |     5288    |          0.0          |   1   |\n",
       "  |    18357    |          0.0          |   1   |\n",
       "  |     118     | 0.0011492753028869629 |   1   |\n",
       "  |     8324    | 0.0007899224758148194 |   1   |\n",
       "  |    15863    |          0.0          |   1   |\n",
       "  |    14406    | 0.0004605531692504883 |   1   |\n",
       "  |    15927    |  0.14285714285714285  |   1   |\n",
       "  |    14388    |          0.0          |   2   |\n",
       "  |     2043    | 0.0002891266345977783 |   1   |\n",
       "  |    16820    |          0.0          |   2   |\n",
       "  +-------------+-----------------------+-------+\n",
       "  [4086 rows x 3 columns]\n",
       "  Note: Only the head of the SFrame is printed.\n",
       "  You can use print_rows(num_rows=m, num_columns=n) to print more rows and columns.,\n",
       "  'rmse_by_item': Columns:\n",
       "  \tItem_ID\tstr\n",
       "  \trmse\tfloat\n",
       "  \tcount\tint\n",
       "  \n",
       "  Rows: 147\n",
       "  \n",
       "  Data:\n",
       "  +---------+-----------------------+-------+\n",
       "  | Item_ID |          rmse         | count |\n",
       "  +---------+-----------------------+-------+\n",
       "  |    F3   |  0.17711143951884864  |   46  |\n",
       "  |    S1   |  0.17582591345549983  |   57  |\n",
       "  |   SB6   | 0.0027661293879158197 |   22  |\n",
       "  |   TP17  |    0.3370999315487    |   11  |\n",
       "  |    T7   |  0.33028528253822814  |   11  |\n",
       "  |   SB2   |  0.10206209057768667  |   24  |\n",
       "  |   TP15  |  0.020559797684351604 |   9   |\n",
       "  |   SI10  |  0.31978531654959785  |   11  |\n",
       "  |   MT15  |   0.1574730448659436  |   10  |\n",
       "  |   SI14  |   0.410011091195416   |   6   |\n",
       "  +---------+-----------------------+-------+\n",
       "  [147 rows x 3 columns]\n",
       "  Note: Only the head of the SFrame is printed.\n",
       "  You can use print_rows(num_rows=m, num_columns=n) to print more rows and columns.,\n",
       "  'rmse_overall': 0.16758427485254948},\n",
       " {'precision_recall_by_user': Columns:\n",
       "  \tCustomer_ID\tint\n",
       "  \tcutoff\tint\n",
       "  \tprecision\tfloat\n",
       "  \trecall\tfloat\n",
       "  \tcount\tint\n",
       "  \n",
       "  Rows: 73548\n",
       "  \n",
       "  Data:\n",
       "  +-------------+--------+-----------+--------+-------+\n",
       "  | Customer_ID | cutoff | precision | recall | count |\n",
       "  +-------------+--------+-----------+--------+-------+\n",
       "  |    15523    |   1    |    0.0    |  0.0   |   2   |\n",
       "  |    15523    |   2    |    0.0    |  0.0   |   2   |\n",
       "  |    15523    |   3    |    0.0    |  0.0   |   2   |\n",
       "  |    15523    |   4    |    0.0    |  0.0   |   2   |\n",
       "  |    15523    |   5    |    0.0    |  0.0   |   2   |\n",
       "  |    15523    |   6    |    0.0    |  0.0   |   2   |\n",
       "  |    15523    |   7    |    0.0    |  0.0   |   2   |\n",
       "  |    15523    |   8    |    0.0    |  0.0   |   2   |\n",
       "  |    15523    |   9    |    0.0    |  0.0   |   2   |\n",
       "  |    15523    |   10   |    0.0    |  0.0   |   2   |\n",
       "  +-------------+--------+-----------+--------+-------+\n",
       "  [73548 rows x 5 columns]\n",
       "  Note: Only the head of the SFrame is printed.\n",
       "  You can use print_rows(num_rows=m, num_columns=n) to print more rows and columns.,\n",
       "  'precision_recall_overall': Columns:\n",
       "  \tcutoff\tint\n",
       "  \tprecision\tfloat\n",
       "  \trecall\tfloat\n",
       "  \n",
       "  Rows: 18\n",
       "  \n",
       "  Data:\n",
       "  +--------+-----------------------+-----------------------+\n",
       "  | cutoff |       precision       |         recall        |\n",
       "  +--------+-----------------------+-----------------------+\n",
       "  |   1    | 0.0029368575624082248 | 0.0022026431718061667 |\n",
       "  |   2    | 0.0023250122369065113 | 0.0037934410181106218 |\n",
       "  |   3    | 0.0027736988089411023 |  0.006118453255017128 |\n",
       "  |   4    | 0.0030592266275085676 |  0.008941099689998365 |\n",
       "  |   5    | 0.0029368575624082217 |  0.010735845978136729 |\n",
       "  |   6    |  0.002977647250775004 |  0.013191385217816952 |\n",
       "  |   7    | 0.0026921194322075373 |  0.013762440854951877 |\n",
       "  |   8    |  0.002539158100832111 |  0.01488415728503834  |\n",
       "  |   9    |  0.002474574427584703 |  0.01643416544297602  |\n",
       "  |   10   | 0.0023739598629466427 |  0.017657856093979456 |\n",
       "  +--------+-----------------------+-----------------------+\n",
       "  [18 rows x 3 columns]\n",
       "  Note: Only the head of the SFrame is printed.\n",
       "  You can use print_rows(num_rows=m, num_columns=n) to print more rows and columns.,\n",
       "  'rmse_by_user': Columns:\n",
       "  \tCustomer_ID\tint\n",
       "  \trmse\tfloat\n",
       "  \tcount\tint\n",
       "  \n",
       "  Rows: 4086\n",
       "  \n",
       "  Data:\n",
       "  +-------------+----------------------+-------+\n",
       "  | Customer_ID |         rmse         | count |\n",
       "  +-------------+----------------------+-------+\n",
       "  |     5288    | 0.010305177873060723 |   1   |\n",
       "  |    18357    |  0.0278293135435993  |   1   |\n",
       "  |     118     | 0.09423926749319399  |   1   |\n",
       "  |     8324    | 0.017362978185073714 |   1   |\n",
       "  |    15863    | 0.010009834030330587 |   1   |\n",
       "  |    14406    | 0.02698532617409049  |   1   |\n",
       "  |    15927    | 0.08093509556172963  |   1   |\n",
       "  |    14388    | 0.06300393511905664  |   2   |\n",
       "  |     2043    | 0.05254353955738442  |   1   |\n",
       "  |    16820    | 0.017190384176165304 |   2   |\n",
       "  +-------------+----------------------+-------+\n",
       "  [4086 rows x 3 columns]\n",
       "  Note: Only the head of the SFrame is printed.\n",
       "  You can use print_rows(num_rows=m, num_columns=n) to print more rows and columns.,\n",
       "  'rmse_by_item': Columns:\n",
       "  \tItem_ID\tstr\n",
       "  \trmse\tfloat\n",
       "  \tcount\tint\n",
       "  \n",
       "  Rows: 147\n",
       "  \n",
       "  Data:\n",
       "  +---------+---------------------+-------+\n",
       "  | Item_ID |         rmse        | count |\n",
       "  +---------+---------------------+-------+\n",
       "  |    F3   | 0.15478171206924365 |   46  |\n",
       "  |    S1   |  0.1664928172328086 |   57  |\n",
       "  |   SB6   |  0.0231023653975641 |   22  |\n",
       "  |   TP17  |  0.3246130349901654 |   11  |\n",
       "  |    T7   | 0.30765456960505594 |   11  |\n",
       "  |   SB2   | 0.10317304077079441 |   24  |\n",
       "  |   TP15  |  0.059575697726083  |   9   |\n",
       "  |   SI10  | 0.29214581298255327 |   11  |\n",
       "  |   MT15  | 0.15470788441402678 |   10  |\n",
       "  |   SI14  |  0.348841303431051  |   6   |\n",
       "  +---------+---------------------+-------+\n",
       "  [147 rows x 3 columns]\n",
       "  Note: Only the head of the SFrame is printed.\n",
       "  You can use print_rows(num_rows=m, num_columns=n) to print more rows and columns.,\n",
       "  'rmse_overall': 0.15636881559735963}]"
      ]
     },
     "execution_count": 57,
     "metadata": {},
     "output_type": "execute_result"
    }
   ],
   "source": [
    "models = [pop1, cos1, ps1]\n",
    "tc.recommender.util.compare_models(tc.SFrame(test), models, model_names = ['popularity', 'cosine', 'pearson'])"
   ]
  },
  {
   "cell_type": "code",
   "execution_count": 45,
   "metadata": {
    "scrolled": true
   },
   "outputs": [
    {
     "data": {
      "text/html": [
       "<pre>recommendations finished on 1000/10529 queries. users per second: 195198</pre>"
      ],
      "text/plain": [
       "recommendations finished on 1000/10529 queries. users per second: 195198"
      ]
     },
     "metadata": {},
     "output_type": "display_data"
    },
    {
     "data": {
      "text/html": [
       "<pre>recommendations finished on 2000/10529 queries. users per second: 240964</pre>"
      ],
      "text/plain": [
       "recommendations finished on 2000/10529 queries. users per second: 240964"
      ]
     },
     "metadata": {},
     "output_type": "display_data"
    },
    {
     "data": {
      "text/html": [
       "<pre>recommendations finished on 3000/10529 queries. users per second: 249480</pre>"
      ],
      "text/plain": [
       "recommendations finished on 3000/10529 queries. users per second: 249480"
      ]
     },
     "metadata": {},
     "output_type": "display_data"
    },
    {
     "data": {
      "text/html": [
       "<pre>recommendations finished on 4000/10529 queries. users per second: 275292</pre>"
      ],
      "text/plain": [
       "recommendations finished on 4000/10529 queries. users per second: 275292"
      ]
     },
     "metadata": {},
     "output_type": "display_data"
    },
    {
     "data": {
      "text/html": [
       "<pre>recommendations finished on 5000/10529 queries. users per second: 282534</pre>"
      ],
      "text/plain": [
       "recommendations finished on 5000/10529 queries. users per second: 282534"
      ]
     },
     "metadata": {},
     "output_type": "display_data"
    },
    {
     "name": "stdout",
     "output_type": "stream",
     "text": [
      "+-------------+---------+--------------------+------+\n",
      "| Customer_ID | Item_ID |       score        | rank |\n",
      "+-------------+---------+--------------------+------+\n",
      "|    12844    |    F7   | 2.774923291077485  |  1   |\n",
      "|    12844    |    T6   | 2.542857142857143  |  2   |\n",
      "|    12844    |    F5   | 2.1046854635502434 |  3   |\n",
      "|    12844    |   CYO4  | 1.9807225619043622 |  4   |\n",
      "|    12844    |    F3   | 1.961654085490354  |  5   |\n",
      "|    17755    |    F7   | 2.7843814991615914 |  1   |\n",
      "|    17755    |    T6   | 2.5409425522599904 |  2   |\n",
      "|    17755    |    F5   | 2.1137079239314334 |  3   |\n",
      "|    17755    |   CYO4  | 1.9820005709216708 |  4   |\n",
      "|    17755    |    F3   | 1.9512262548737207 |  5   |\n",
      "|    15887    |    F7   | 2.7838720284603737 |  1   |\n",
      "|    15887    |    T6   | 2.5445910568748205 |  2   |\n",
      "|    15887    |    F5   |  2.11697028482214  |  3   |\n",
      "|    15887    |   CYO4  | 1.9821428571428572 |  4   |\n",
      "|    15887    |    F3   | 1.9634338772031148 |  5   |\n",
      "|     4849    |    F7   | 2.7837700151108407 |  1   |\n",
      "|     4849    |    T6   | 2.541969431014288  |  2   |\n",
      "|     4849    |    F5   | 2.1164268593416153 |  3   |\n",
      "|     4849    |   CYO4  | 1.9821428571428572 |  4   |\n",
      "|     4849    |    F3   | 1.9609432325494767 |  5   |\n",
      "|    16711    |    F7   | 2.783776899447312  |  1   |\n",
      "|    16711    |    T6   | 2.542744281462261  |  2   |\n",
      "|    16711    |    F5   | 2.116793497445736  |  3   |\n",
      "|    16711    |   CYO4  | 1.9731476122424716 |  4   |\n",
      "|    16711    |    F3   | 1.9633028413586298 |  5   |\n",
      "+-------------+---------+--------------------+------+\n",
      "[52645 rows x 4 columns]\n",
      "\n"
     ]
    },
    {
     "data": {
      "text/html": [
       "<pre>recommendations finished on 6000/10529 queries. users per second: 274449</pre>"
      ],
      "text/plain": [
       "recommendations finished on 6000/10529 queries. users per second: 274449"
      ]
     },
     "metadata": {},
     "output_type": "display_data"
    },
    {
     "data": {
      "text/html": [
       "<pre>recommendations finished on 7000/10529 queries. users per second: 270929</pre>"
      ],
      "text/plain": [
       "recommendations finished on 7000/10529 queries. users per second: 270929"
      ]
     },
     "metadata": {},
     "output_type": "display_data"
    },
    {
     "data": {
      "text/html": [
       "<pre>recommendations finished on 8000/10529 queries. users per second: 278600</pre>"
      ],
      "text/plain": [
       "recommendations finished on 8000/10529 queries. users per second: 278600"
      ]
     },
     "metadata": {},
     "output_type": "display_data"
    },
    {
     "data": {
      "text/html": [
       "<pre>recommendations finished on 9000/10529 queries. users per second: 285914</pre>"
      ],
      "text/plain": [
       "recommendations finished on 9000/10529 queries. users per second: 285914"
      ]
     },
     "metadata": {},
     "output_type": "display_data"
    },
    {
     "data": {
      "text/html": [
       "<pre>recommendations finished on 10000/10529 queries. users per second: 288434</pre>"
      ],
      "text/plain": [
       "recommendations finished on 10000/10529 queries. users per second: 288434"
      ]
     },
     "metadata": {},
     "output_type": "display_data"
    }
   ],
   "source": [
    "ps1.recommend(k = 5).print_rows(25)"
   ]
  },
  {
   "cell_type": "code",
   "execution_count": 50,
   "metadata": {},
   "outputs": [
    {
     "data": {
      "text/plain": [
       "SS1    2007\n",
       "SS2     791\n",
       "FM1     737\n",
       "SS3     698\n",
       "FS1     621\n",
       "SS4     600\n",
       "SS5     593\n",
       "EW1     557\n",
       "FM2     522\n",
       "SB1     511\n",
       "EW2     482\n",
       "SI1     468\n",
       "SI2     463\n",
       "SS6     462\n",
       "F1      452\n",
       "AD1     446\n",
       "FS2     413\n",
       "T1      402\n",
       "FM3     402\n",
       "F2      398\n",
       "Name: Item_ID, dtype: int64"
      ]
     },
     "execution_count": 50,
     "metadata": {},
     "output_type": "execute_result"
    }
   ],
   "source": [
    "df.Item_ID.value_counts().sort_values(ascending = False).head(20)"
   ]
  },
  {
   "cell_type": "code",
   "execution_count": null,
   "metadata": {},
   "outputs": [],
   "source": []
  },
  {
   "cell_type": "code",
   "execution_count": null,
   "metadata": {},
   "outputs": [],
   "source": []
  },
  {
   "cell_type": "code",
   "execution_count": null,
   "metadata": {},
   "outputs": [],
   "source": []
  },
  {
   "cell_type": "code",
   "execution_count": null,
   "metadata": {},
   "outputs": [],
   "source": []
  },
  {
   "cell_type": "code",
   "execution_count": 213,
   "metadata": {},
   "outputs": [
    {
     "data": {
      "text/html": [
       "<pre>Warning: Ignoring columns Zip_cd, Weather;</pre>"
      ],
      "text/plain": [
       "Warning: Ignoring columns Zip_cd, Weather;"
      ]
     },
     "metadata": {},
     "output_type": "display_data"
    },
    {
     "data": {
      "text/html": [
       "<pre>    To use these columns in scoring predictions, use a model that allows the use of additional features.</pre>"
      ],
      "text/plain": [
       "    To use these columns in scoring predictions, use a model that allows the use of additional features."
      ]
     },
     "metadata": {},
     "output_type": "display_data"
    },
    {
     "data": {
      "text/html": [
       "<pre>Preparing data set.</pre>"
      ],
      "text/plain": [
       "Preparing data set."
      ]
     },
     "metadata": {},
     "output_type": "display_data"
    },
    {
     "data": {
      "text/html": [
       "<pre>    Data has 25792 observations with 10683 users and 16 items.</pre>"
      ],
      "text/plain": [
       "    Data has 25792 observations with 10683 users and 16 items."
      ]
     },
     "metadata": {},
     "output_type": "display_data"
    },
    {
     "data": {
      "text/html": [
       "<pre>    Data prepared in: 0.046801s</pre>"
      ],
      "text/plain": [
       "    Data prepared in: 0.046801s"
      ]
     },
     "metadata": {},
     "output_type": "display_data"
    },
    {
     "data": {
      "text/html": [
       "<pre>25792 observations to process; with 16 unique items.</pre>"
      ],
      "text/plain": [
       "25792 observations to process; with 16 unique items."
      ]
     },
     "metadata": {},
     "output_type": "display_data"
    },
    {
     "data": {
      "text/html": [
       "<pre>recommendations finished on 1000/10683 queries. users per second: 650195</pre>"
      ],
      "text/plain": [
       "recommendations finished on 1000/10683 queries. users per second: 650195"
      ]
     },
     "metadata": {},
     "output_type": "display_data"
    },
    {
     "data": {
      "text/html": [
       "<pre>recommendations finished on 2000/10683 queries. users per second: 1.11669e+06</pre>"
      ],
      "text/plain": [
       "recommendations finished on 2000/10683 queries. users per second: 1.11669e+06"
      ]
     },
     "metadata": {},
     "output_type": "display_data"
    },
    {
     "data": {
      "text/html": [
       "<pre>recommendations finished on 3000/10683 queries. users per second: 1.47929e+06</pre>"
      ],
      "text/plain": [
       "recommendations finished on 3000/10683 queries. users per second: 1.47929e+06"
      ]
     },
     "metadata": {},
     "output_type": "display_data"
    },
    {
     "data": {
      "text/html": [
       "<pre>recommendations finished on 4000/10683 queries. users per second: 1.74368e+06</pre>"
      ],
      "text/plain": [
       "recommendations finished on 4000/10683 queries. users per second: 1.74368e+06"
      ]
     },
     "metadata": {},
     "output_type": "display_data"
    },
    {
     "data": {
      "text/html": [
       "<pre>recommendations finished on 5000/10683 queries. users per second: 1.93573e+06</pre>"
      ],
      "text/plain": [
       "recommendations finished on 5000/10683 queries. users per second: 1.93573e+06"
      ]
     },
     "metadata": {},
     "output_type": "display_data"
    },
    {
     "data": {
      "text/html": [
       "<pre>recommendations finished on 6000/10683 queries. users per second: 2.12766e+06</pre>"
      ],
      "text/plain": [
       "recommendations finished on 6000/10683 queries. users per second: 2.12766e+06"
      ]
     },
     "metadata": {},
     "output_type": "display_data"
    },
    {
     "data": {
      "text/html": [
       "<pre>recommendations finished on 7000/10683 queries. users per second: 2.23857e+06</pre>"
      ],
      "text/plain": [
       "recommendations finished on 7000/10683 queries. users per second: 2.23857e+06"
      ]
     },
     "metadata": {},
     "output_type": "display_data"
    },
    {
     "data": {
      "text/html": [
       "<pre>recommendations finished on 8000/10683 queries. users per second: 2.32964e+06</pre>"
      ],
      "text/plain": [
       "recommendations finished on 8000/10683 queries. users per second: 2.32964e+06"
      ]
     },
     "metadata": {},
     "output_type": "display_data"
    },
    {
     "data": {
      "text/html": [
       "<pre>recommendations finished on 9000/10683 queries. users per second: 2.41481e+06</pre>"
      ],
      "text/plain": [
       "recommendations finished on 9000/10683 queries. users per second: 2.41481e+06"
      ]
     },
     "metadata": {},
     "output_type": "display_data"
    },
    {
     "data": {
      "text/html": [
       "<pre>recommendations finished on 10000/10683 queries. users per second: 2.38892e+06</pre>"
      ],
      "text/plain": [
       "recommendations finished on 10000/10683 queries. users per second: 2.38892e+06"
      ]
     },
     "metadata": {},
     "output_type": "display_data"
    },
    {
     "data": {
      "text/html": [
       "<pre>Warning: Ignoring columns Zip_cd, Weather;</pre>"
      ],
      "text/plain": [
       "Warning: Ignoring columns Zip_cd, Weather;"
      ]
     },
     "metadata": {},
     "output_type": "display_data"
    },
    {
     "data": {
      "text/html": [
       "<pre>    To use these columns in scoring predictions, use a model that allows the use of additional features.</pre>"
      ],
      "text/plain": [
       "    To use these columns in scoring predictions, use a model that allows the use of additional features."
      ]
     },
     "metadata": {},
     "output_type": "display_data"
    },
    {
     "data": {
      "text/html": [
       "<pre>Preparing data set.</pre>"
      ],
      "text/plain": [
       "Preparing data set."
      ]
     },
     "metadata": {},
     "output_type": "display_data"
    },
    {
     "data": {
      "text/html": [
       "<pre>    Data has 25792 observations with 10683 users and 16 items.</pre>"
      ],
      "text/plain": [
       "    Data has 25792 observations with 10683 users and 16 items."
      ]
     },
     "metadata": {},
     "output_type": "display_data"
    },
    {
     "data": {
      "text/html": [
       "<pre>    Data prepared in: 0.055587s</pre>"
      ],
      "text/plain": [
       "    Data prepared in: 0.055587s"
      ]
     },
     "metadata": {},
     "output_type": "display_data"
    },
    {
     "data": {
      "text/html": [
       "<pre>Training model from provided data.</pre>"
      ],
      "text/plain": [
       "Training model from provided data."
      ]
     },
     "metadata": {},
     "output_type": "display_data"
    },
    {
     "data": {
      "text/html": [
       "<pre>Gathering per-item and per-user statistics.</pre>"
      ],
      "text/plain": [
       "Gathering per-item and per-user statistics."
      ]
     },
     "metadata": {},
     "output_type": "display_data"
    },
    {
     "data": {
      "text/html": [
       "<pre>+--------------------------------+------------+</pre>"
      ],
      "text/plain": [
       "+--------------------------------+------------+"
      ]
     },
     "metadata": {},
     "output_type": "display_data"
    },
    {
     "data": {
      "text/html": [
       "<pre>| Elapsed Time (Item Statistics) | % Complete |</pre>"
      ],
      "text/plain": [
       "| Elapsed Time (Item Statistics) | % Complete |"
      ]
     },
     "metadata": {},
     "output_type": "display_data"
    },
    {
     "data": {
      "text/html": [
       "<pre>+--------------------------------+------------+</pre>"
      ],
      "text/plain": [
       "+--------------------------------+------------+"
      ]
     },
     "metadata": {},
     "output_type": "display_data"
    },
    {
     "data": {
      "text/html": [
       "<pre>| 3.881ms                        | 9.25       |</pre>"
      ],
      "text/plain": [
       "| 3.881ms                        | 9.25       |"
      ]
     },
     "metadata": {},
     "output_type": "display_data"
    },
    {
     "data": {
      "text/html": [
       "<pre>| 7.034ms                        | 100        |</pre>"
      ],
      "text/plain": [
       "| 7.034ms                        | 100        |"
      ]
     },
     "metadata": {},
     "output_type": "display_data"
    },
    {
     "data": {
      "text/html": [
       "<pre>+--------------------------------+------------+</pre>"
      ],
      "text/plain": [
       "+--------------------------------+------------+"
      ]
     },
     "metadata": {},
     "output_type": "display_data"
    },
    {
     "data": {
      "text/html": [
       "<pre>Setting up lookup tables.</pre>"
      ],
      "text/plain": [
       "Setting up lookup tables."
      ]
     },
     "metadata": {},
     "output_type": "display_data"
    },
    {
     "data": {
      "text/html": [
       "<pre>Processing data in one pass using dense lookup tables.</pre>"
      ],
      "text/plain": [
       "Processing data in one pass using dense lookup tables."
      ]
     },
     "metadata": {},
     "output_type": "display_data"
    },
    {
     "data": {
      "text/html": [
       "<pre>+-------------------------------------+------------------+-----------------+</pre>"
      ],
      "text/plain": [
       "+-------------------------------------+------------------+-----------------+"
      ]
     },
     "metadata": {},
     "output_type": "display_data"
    },
    {
     "data": {
      "text/html": [
       "<pre>| Elapsed Time (Constructing Lookups) | Total % Complete | Items Processed |</pre>"
      ],
      "text/plain": [
       "| Elapsed Time (Constructing Lookups) | Total % Complete | Items Processed |"
      ]
     },
     "metadata": {},
     "output_type": "display_data"
    },
    {
     "data": {
      "text/html": [
       "<pre>+-------------------------------------+------------------+-----------------+</pre>"
      ],
      "text/plain": [
       "+-------------------------------------+------------------+-----------------+"
      ]
     },
     "metadata": {},
     "output_type": "display_data"
    },
    {
     "data": {
      "text/html": [
       "<pre>| 8.022ms                             | 0                | 0               |</pre>"
      ],
      "text/plain": [
       "| 8.022ms                             | 0                | 0               |"
      ]
     },
     "metadata": {},
     "output_type": "display_data"
    },
    {
     "data": {
      "text/html": [
       "<pre>| 15.195ms                            | 100              | 16              |</pre>"
      ],
      "text/plain": [
       "| 15.195ms                            | 100              | 16              |"
      ]
     },
     "metadata": {},
     "output_type": "display_data"
    },
    {
     "data": {
      "text/html": [
       "<pre>+-------------------------------------+------------------+-----------------+</pre>"
      ],
      "text/plain": [
       "+-------------------------------------+------------------+-----------------+"
      ]
     },
     "metadata": {},
     "output_type": "display_data"
    },
    {
     "data": {
      "text/html": [
       "<pre>Finalizing lookup tables.</pre>"
      ],
      "text/plain": [
       "Finalizing lookup tables."
      ]
     },
     "metadata": {},
     "output_type": "display_data"
    },
    {
     "data": {
      "text/html": [
       "<pre>Generating candidate set for working with new users.</pre>"
      ],
      "text/plain": [
       "Generating candidate set for working with new users."
      ]
     },
     "metadata": {},
     "output_type": "display_data"
    },
    {
     "data": {
      "text/html": [
       "<pre>Finished training in 0.024721s</pre>"
      ],
      "text/plain": [
       "Finished training in 0.024721s"
      ]
     },
     "metadata": {},
     "output_type": "display_data"
    },
    {
     "data": {
      "text/html": [
       "<pre>recommendations finished on 1000/10683 queries. users per second: 780031</pre>"
      ],
      "text/plain": [
       "recommendations finished on 1000/10683 queries. users per second: 780031"
      ]
     },
     "metadata": {},
     "output_type": "display_data"
    },
    {
     "data": {
      "text/html": [
       "<pre>recommendations finished on 2000/10683 queries. users per second: 953743</pre>"
      ],
      "text/plain": [
       "recommendations finished on 2000/10683 queries. users per second: 953743"
      ]
     },
     "metadata": {},
     "output_type": "display_data"
    },
    {
     "data": {
      "text/html": [
       "<pre>recommendations finished on 3000/10683 queries. users per second: 1.05559e+06</pre>"
      ],
      "text/plain": [
       "recommendations finished on 3000/10683 queries. users per second: 1.05559e+06"
      ]
     },
     "metadata": {},
     "output_type": "display_data"
    },
    {
     "data": {
      "text/html": [
       "<pre>recommendations finished on 4000/10683 queries. users per second: 1.10072e+06</pre>"
      ],
      "text/plain": [
       "recommendations finished on 4000/10683 queries. users per second: 1.10072e+06"
      ]
     },
     "metadata": {},
     "output_type": "display_data"
    },
    {
     "data": {
      "text/html": [
       "<pre>recommendations finished on 5000/10683 queries. users per second: 1.15768e+06</pre>"
      ],
      "text/plain": [
       "recommendations finished on 5000/10683 queries. users per second: 1.15768e+06"
      ]
     },
     "metadata": {},
     "output_type": "display_data"
    },
    {
     "data": {
      "text/html": [
       "<pre>recommendations finished on 6000/10683 queries. users per second: 1.13615e+06</pre>"
      ],
      "text/plain": [
       "recommendations finished on 6000/10683 queries. users per second: 1.13615e+06"
      ]
     },
     "metadata": {},
     "output_type": "display_data"
    },
    {
     "data": {
      "text/html": [
       "<pre>recommendations finished on 7000/10683 queries. users per second: 1.13544e+06</pre>"
      ],
      "text/plain": [
       "recommendations finished on 7000/10683 queries. users per second: 1.13544e+06"
      ]
     },
     "metadata": {},
     "output_type": "display_data"
    },
    {
     "data": {
      "text/html": [
       "<pre>recommendations finished on 8000/10683 queries. users per second: 1.12533e+06</pre>"
      ],
      "text/plain": [
       "recommendations finished on 8000/10683 queries. users per second: 1.12533e+06"
      ]
     },
     "metadata": {},
     "output_type": "display_data"
    },
    {
     "data": {
      "text/html": [
       "<pre>recommendations finished on 9000/10683 queries. users per second: 1.15607e+06</pre>"
      ],
      "text/plain": [
       "recommendations finished on 9000/10683 queries. users per second: 1.15607e+06"
      ]
     },
     "metadata": {},
     "output_type": "display_data"
    },
    {
     "data": {
      "text/html": [
       "<pre>recommendations finished on 10000/10683 queries. users per second: 1.18175e+06</pre>"
      ],
      "text/plain": [
       "recommendations finished on 10000/10683 queries. users per second: 1.18175e+06"
      ]
     },
     "metadata": {},
     "output_type": "display_data"
    },
    {
     "data": {
      "text/html": [
       "<pre>Warning: Ignoring columns Zip_cd, Weather;</pre>"
      ],
      "text/plain": [
       "Warning: Ignoring columns Zip_cd, Weather;"
      ]
     },
     "metadata": {},
     "output_type": "display_data"
    },
    {
     "data": {
      "text/html": [
       "<pre>    To use these columns in scoring predictions, use a model that allows the use of additional features.</pre>"
      ],
      "text/plain": [
       "    To use these columns in scoring predictions, use a model that allows the use of additional features."
      ]
     },
     "metadata": {},
     "output_type": "display_data"
    },
    {
     "data": {
      "text/html": [
       "<pre>Preparing data set.</pre>"
      ],
      "text/plain": [
       "Preparing data set."
      ]
     },
     "metadata": {},
     "output_type": "display_data"
    },
    {
     "data": {
      "text/html": [
       "<pre>    Data has 25792 observations with 10683 users and 16 items.</pre>"
      ],
      "text/plain": [
       "    Data has 25792 observations with 10683 users and 16 items."
      ]
     },
     "metadata": {},
     "output_type": "display_data"
    },
    {
     "data": {
      "text/html": [
       "<pre>    Data prepared in: 0.081817s</pre>"
      ],
      "text/plain": [
       "    Data prepared in: 0.081817s"
      ]
     },
     "metadata": {},
     "output_type": "display_data"
    },
    {
     "data": {
      "text/html": [
       "<pre>Training model from provided data.</pre>"
      ],
      "text/plain": [
       "Training model from provided data."
      ]
     },
     "metadata": {},
     "output_type": "display_data"
    },
    {
     "data": {
      "text/html": [
       "<pre>Gathering per-item and per-user statistics.</pre>"
      ],
      "text/plain": [
       "Gathering per-item and per-user statistics."
      ]
     },
     "metadata": {},
     "output_type": "display_data"
    },
    {
     "data": {
      "text/html": [
       "<pre>+--------------------------------+------------+</pre>"
      ],
      "text/plain": [
       "+--------------------------------+------------+"
      ]
     },
     "metadata": {},
     "output_type": "display_data"
    },
    {
     "data": {
      "text/html": [
       "<pre>| Elapsed Time (Item Statistics) | % Complete |</pre>"
      ],
      "text/plain": [
       "| Elapsed Time (Item Statistics) | % Complete |"
      ]
     },
     "metadata": {},
     "output_type": "display_data"
    },
    {
     "data": {
      "text/html": [
       "<pre>+--------------------------------+------------+</pre>"
      ],
      "text/plain": [
       "+--------------------------------+------------+"
      ]
     },
     "metadata": {},
     "output_type": "display_data"
    },
    {
     "data": {
      "text/html": [
       "<pre>| 587us                          | 9.25       |</pre>"
      ],
      "text/plain": [
       "| 587us                          | 9.25       |"
      ]
     },
     "metadata": {},
     "output_type": "display_data"
    },
    {
     "data": {
      "text/html": [
       "<pre>| 2.182ms                        | 100        |</pre>"
      ],
      "text/plain": [
       "| 2.182ms                        | 100        |"
      ]
     },
     "metadata": {},
     "output_type": "display_data"
    },
    {
     "data": {
      "text/html": [
       "<pre>+--------------------------------+------------+</pre>"
      ],
      "text/plain": [
       "+--------------------------------+------------+"
      ]
     },
     "metadata": {},
     "output_type": "display_data"
    },
    {
     "data": {
      "text/html": [
       "<pre>Setting up lookup tables.</pre>"
      ],
      "text/plain": [
       "Setting up lookup tables."
      ]
     },
     "metadata": {},
     "output_type": "display_data"
    },
    {
     "data": {
      "text/html": [
       "<pre>Processing data in one pass using dense lookup tables.</pre>"
      ],
      "text/plain": [
       "Processing data in one pass using dense lookup tables."
      ]
     },
     "metadata": {},
     "output_type": "display_data"
    },
    {
     "data": {
      "text/html": [
       "<pre>+-------------------------------------+------------------+-----------------+</pre>"
      ],
      "text/plain": [
       "+-------------------------------------+------------------+-----------------+"
      ]
     },
     "metadata": {},
     "output_type": "display_data"
    },
    {
     "data": {
      "text/html": [
       "<pre>| Elapsed Time (Constructing Lookups) | Total % Complete | Items Processed |</pre>"
      ],
      "text/plain": [
       "| Elapsed Time (Constructing Lookups) | Total % Complete | Items Processed |"
      ]
     },
     "metadata": {},
     "output_type": "display_data"
    },
    {
     "data": {
      "text/html": [
       "<pre>+-------------------------------------+------------------+-----------------+</pre>"
      ],
      "text/plain": [
       "+-------------------------------------+------------------+-----------------+"
      ]
     },
     "metadata": {},
     "output_type": "display_data"
    },
    {
     "data": {
      "text/html": [
       "<pre>| 2.749ms                             | 0                | 0               |</pre>"
      ],
      "text/plain": [
       "| 2.749ms                             | 0                | 0               |"
      ]
     },
     "metadata": {},
     "output_type": "display_data"
    },
    {
     "data": {
      "text/html": [
       "<pre>| 4.42ms                              | 100              | 16              |</pre>"
      ],
      "text/plain": [
       "| 4.42ms                              | 100              | 16              |"
      ]
     },
     "metadata": {},
     "output_type": "display_data"
    },
    {
     "data": {
      "text/html": [
       "<pre>+-------------------------------------+------------------+-----------------+</pre>"
      ],
      "text/plain": [
       "+-------------------------------------+------------------+-----------------+"
      ]
     },
     "metadata": {},
     "output_type": "display_data"
    },
    {
     "data": {
      "text/html": [
       "<pre>Finalizing lookup tables.</pre>"
      ],
      "text/plain": [
       "Finalizing lookup tables."
      ]
     },
     "metadata": {},
     "output_type": "display_data"
    },
    {
     "data": {
      "text/html": [
       "<pre>Generating candidate set for working with new users.</pre>"
      ],
      "text/plain": [
       "Generating candidate set for working with new users."
      ]
     },
     "metadata": {},
     "output_type": "display_data"
    },
    {
     "data": {
      "text/html": [
       "<pre>Finished training in 0.006556s</pre>"
      ],
      "text/plain": [
       "Finished training in 0.006556s"
      ]
     },
     "metadata": {},
     "output_type": "display_data"
    },
    {
     "data": {
      "text/html": [
       "<pre>recommendations finished on 1000/10683 queries. users per second: 681199</pre>"
      ],
      "text/plain": [
       "recommendations finished on 1000/10683 queries. users per second: 681199"
      ]
     },
     "metadata": {},
     "output_type": "display_data"
    },
    {
     "data": {
      "text/html": [
       "<pre>recommendations finished on 2000/10683 queries. users per second: 948767</pre>"
      ],
      "text/plain": [
       "recommendations finished on 2000/10683 queries. users per second: 948767"
      ]
     },
     "metadata": {},
     "output_type": "display_data"
    },
    {
     "data": {
      "text/html": [
       "<pre>recommendations finished on 3000/10683 queries. users per second: 1.08108e+06</pre>"
      ],
      "text/plain": [
       "recommendations finished on 3000/10683 queries. users per second: 1.08108e+06"
      ]
     },
     "metadata": {},
     "output_type": "display_data"
    },
    {
     "data": {
      "text/html": [
       "<pre>recommendations finished on 4000/10683 queries. users per second: 1.19796e+06</pre>"
      ],
      "text/plain": [
       "recommendations finished on 4000/10683 queries. users per second: 1.19796e+06"
      ]
     },
     "metadata": {},
     "output_type": "display_data"
    },
    {
     "data": {
      "text/html": [
       "<pre>recommendations finished on 5000/10683 queries. users per second: 1.25628e+06</pre>"
      ],
      "text/plain": [
       "recommendations finished on 5000/10683 queries. users per second: 1.25628e+06"
      ]
     },
     "metadata": {},
     "output_type": "display_data"
    },
    {
     "data": {
      "text/html": [
       "<pre>recommendations finished on 6000/10683 queries. users per second: 1.3245e+06</pre>"
      ],
      "text/plain": [
       "recommendations finished on 6000/10683 queries. users per second: 1.3245e+06"
      ]
     },
     "metadata": {},
     "output_type": "display_data"
    },
    {
     "data": {
      "text/html": [
       "<pre>recommendations finished on 7000/10683 queries. users per second: 1.37094e+06</pre>"
      ],
      "text/plain": [
       "recommendations finished on 7000/10683 queries. users per second: 1.37094e+06"
      ]
     },
     "metadata": {},
     "output_type": "display_data"
    },
    {
     "data": {
      "text/html": [
       "<pre>recommendations finished on 8000/10683 queries. users per second: 1.42806e+06</pre>"
      ],
      "text/plain": [
       "recommendations finished on 8000/10683 queries. users per second: 1.42806e+06"
      ]
     },
     "metadata": {},
     "output_type": "display_data"
    },
    {
     "data": {
      "text/html": [
       "<pre>recommendations finished on 9000/10683 queries. users per second: 1.45584e+06</pre>"
      ],
      "text/plain": [
       "recommendations finished on 9000/10683 queries. users per second: 1.45584e+06"
      ]
     },
     "metadata": {},
     "output_type": "display_data"
    },
    {
     "data": {
      "text/html": [
       "<pre>recommendations finished on 10000/10683 queries. users per second: 1.47667e+06</pre>"
      ],
      "text/plain": [
       "recommendations finished on 10000/10683 queries. users per second: 1.47667e+06"
      ]
     },
     "metadata": {},
     "output_type": "display_data"
    }
   ],
   "source": [
    "# scenario defination\n",
    "# 1. Know who the customer is (Customer_ID), with ZIP code\n",
    "# 2. Do not know who the customer is, only ZIP code\n",
    "# 3. customer did not provide any information, recommen based on the weather\n",
    "\n",
    "# number of recommend and number of printed ranking\n",
    "n_r = 1\n",
    "n_s = 10\n",
    "\n",
    "# split the dataset, try different input\n",
    "train, test = train_test_split(aggregated_table, test_size=0.2, random_state=5)\n",
    "\n",
    "train_2 = train.drop(['Customer_ID'], axis=1).groupby(['Zip_cd', 'Weather', 'Menu_Category']).sum().reset_index()\n",
    "test_2 = test.drop(['Customer_ID'], axis=1).groupby(['Zip_cd', 'Weather', 'Menu_Category']).sum().reset_index()\n",
    "\n",
    "train_3 = train.drop(['Customer_ID', 'Zip_cd'], axis=1).groupby(['Weather', 'Menu_Category']).sum().reset_index()\n",
    "test_3 = test.drop(['Customer_ID', 'Zip_cd'], axis=1).groupby(['Weather', 'Menu_Category']).sum().reset_index()\n",
    "\n",
    "\n",
    "test = tc.SFrame(test)\n",
    "# change the set by different inputs\n",
    "evaluate_set = train\n",
    "\n",
    "\n",
    "# data, algo, user_id, item_id, target, n_recom, n_show\n",
    "# check which secnario of the input:\n",
    "if 'Customer_ID' in evaluate_set.columns:\n",
    "    # s1\n",
    "    evaluate_set = tc.SFrame(evaluate_set)\n",
    "    m_1_pop, m_1_pop_list = recommender(evaluate_set, 'popularity', 'Customer_ID', 'Menu_Category',\n",
    "                          'Quantity', n_r, n_s)\n",
    "    m_1_cos, m_1_pop_list = recommender(evaluate_set, 'cosine', 'Customer_ID', 'Menu_Category',\n",
    "                          'Quantity', n_r, n_s)\n",
    "    m_1_per, m_1_pop_list = recommender(evaluate_set, 'pearson', 'Customer_ID', 'Menu_Category',\n",
    "                          'Quantity', n_r, n_s)\n",
    "    \n",
    "##### found there are no output from the below statements #####\n",
    "elif 'Zip_cd' in evaluate_set.columns:\n",
    "    # s2\n",
    "    evaluate_set = tc.SFrame(evaluate_set)\n",
    "    m_2_pop = recommender(evaluate_set, 'popularity', 'Zip_cd', 'Menu_Category',\n",
    "                          'Quantity', n_r, n_s)\n",
    "    m_2_cos = recommender(evaluate_set, 'cosine', 'Zip_cd', 'Menu_Category',\n",
    "                          'Quantity', n_r, n_s)\n",
    "    m_2_per = recommender(evaluate_set, 'pearson', 'Zip_cd', 'Menu_Category',\n",
    "                          'Quantity', n_r, n_s)\n",
    "elif 'Weather' in evaluate_set.columns:\n",
    "#     # s3\n",
    "    evaluate_set = tc.SFrame(evaluate_set)\n",
    "    m_3_pop = recommender(evaluate_set, 'popularity', 'Weather', 'Menu_Category',\n",
    "                          'Quantity', n_r, n_s)\n",
    "    m_3_cos = recommender(evaluate_set, 'cosine', 'Weather', 'Menu_Category',\n",
    "                          'Quantity', n_r, n_s)\n",
    "    m_3_per = recommender(evaluate_set, 'pearson', 'Weather', 'Menu_Category',\n",
    "                          'Quantity', n_r, n_s)"
   ]
  },
  {
   "cell_type": "code",
   "execution_count": 214,
   "metadata": {},
   "outputs": [
    {
     "name": "stdout",
     "output_type": "stream",
     "text": [
      "PROGRESS: Evaluate model popularity\n"
     ]
    },
    {
     "data": {
      "text/html": [
       "<pre>recommendations finished on 1000/4445 queries. users per second: 399361</pre>"
      ],
      "text/plain": [
       "recommendations finished on 1000/4445 queries. users per second: 399361"
      ]
     },
     "metadata": {},
     "output_type": "display_data"
    },
    {
     "data": {
      "text/html": [
       "<pre>recommendations finished on 2000/4445 queries. users per second: 528681</pre>"
      ],
      "text/plain": [
       "recommendations finished on 2000/4445 queries. users per second: 528681"
      ]
     },
     "metadata": {},
     "output_type": "display_data"
    },
    {
     "data": {
      "text/html": [
       "<pre>recommendations finished on 3000/4445 queries. users per second: 527241</pre>"
      ],
      "text/plain": [
       "recommendations finished on 3000/4445 queries. users per second: 527241"
      ]
     },
     "metadata": {},
     "output_type": "display_data"
    },
    {
     "data": {
      "text/html": [
       "<pre>recommendations finished on 4000/4445 queries. users per second: 568343</pre>"
      ],
      "text/plain": [
       "recommendations finished on 4000/4445 queries. users per second: 568343"
      ]
     },
     "metadata": {},
     "output_type": "display_data"
    },
    {
     "name": "stdout",
     "output_type": "stream",
     "text": [
      "\n",
      "Precision and recall summary statistics by cutoff\n",
      "+--------+----------------------+----------------------+\n",
      "| cutoff |    mean_precision    |     mean_recall      |\n",
      "+--------+----------------------+----------------------+\n",
      "|   1    | 0.026096737907761534 | 0.018793543664184842 |\n",
      "|   2    | 0.04274465691788524  | 0.06403163890228003  |\n",
      "|   3    | 0.03547056617922761  |  0.0785144714053601  |\n",
      "|   4    | 0.03734533183352084  |  0.1113828628564286  |\n",
      "|   5    | 0.03586051743532058  |  0.1341450175870871  |\n",
      "|   6    | 0.03367829021372331  | 0.15078918706590252  |\n",
      "|   7    | 0.03256950024104126  |  0.1709916617565661  |\n",
      "|   8    | 0.03249718785151858  | 0.19339430785437542  |\n",
      "|   9    |  0.0358373953255845  | 0.24361820843823095  |\n",
      "|   10   | 0.037657167854018236 | 0.28427526916278306  |\n",
      "+--------+----------------------+----------------------+\n",
      "[10 rows x 3 columns]\n",
      "\n",
      "\n",
      "Overall RMSE: 0.66041870775386\n",
      "\n",
      "Per User RMSE (best)\n",
      "+-------------+---------------------+-------+\n",
      "| Customer_ID |         rmse        | count |\n",
      "+-------------+---------------------+-------+\n",
      "|     3667    | 0.02610759493670889 |   1   |\n",
      "+-------------+---------------------+-------+\n",
      "[1 rows x 3 columns]\n",
      "\n",
      "\n",
      "Per User RMSE (worst)\n",
      "+-------------+-------------------+-------+\n",
      "| Customer_ID |        rmse       | count |\n",
      "+-------------+-------------------+-------+\n",
      "|     2683    | 6.047700170357752 |   1   |\n",
      "+-------------+-------------------+-------+\n",
      "[1 rows x 3 columns]\n",
      "\n",
      "\n",
      "Per Item RMSE (best)\n",
      "+---------------+---------------------+-------+\n",
      "| Menu_Category |         rmse        | count |\n",
      "+---------------+---------------------+-------+\n",
      "|  Small Bites  | 0.10017357978527502 |  304  |\n",
      "+---------------+---------------------+-------+\n",
      "[1 rows x 3 columns]\n",
      "\n",
      "\n",
      "Per Item RMSE (worst)\n",
      "+---------------+--------------------+-------+\n",
      "| Menu_Category |        rmse        | count |\n",
      "+---------------+--------------------+-------+\n",
      "|     Fluffy    | 1.1352987488006734 |  415  |\n",
      "+---------------+--------------------+-------+\n",
      "[1 rows x 3 columns]\n",
      "\n",
      "PROGRESS: Evaluate model cosine\n"
     ]
    },
    {
     "data": {
      "text/html": [
       "<pre>recommendations finished on 1000/4445 queries. users per second: 155231</pre>"
      ],
      "text/plain": [
       "recommendations finished on 1000/4445 queries. users per second: 155231"
      ]
     },
     "metadata": {},
     "output_type": "display_data"
    },
    {
     "data": {
      "text/html": [
       "<pre>recommendations finished on 2000/4445 queries. users per second: 218747</pre>"
      ],
      "text/plain": [
       "recommendations finished on 2000/4445 queries. users per second: 218747"
      ]
     },
     "metadata": {},
     "output_type": "display_data"
    },
    {
     "data": {
      "text/html": [
       "<pre>recommendations finished on 3000/4445 queries. users per second: 253979</pre>"
      ],
      "text/plain": [
       "recommendations finished on 3000/4445 queries. users per second: 253979"
      ]
     },
     "metadata": {},
     "output_type": "display_data"
    },
    {
     "data": {
      "text/html": [
       "<pre>recommendations finished on 4000/4445 queries. users per second: 289143</pre>"
      ],
      "text/plain": [
       "recommendations finished on 4000/4445 queries. users per second: 289143"
      ]
     },
     "metadata": {},
     "output_type": "display_data"
    },
    {
     "name": "stdout",
     "output_type": "stream",
     "text": [
      "\n",
      "Precision and recall summary statistics by cutoff\n",
      "+--------+----------------------+---------------------+\n",
      "| cutoff |    mean_precision    |     mean_recall     |\n",
      "+--------+----------------------+---------------------+\n",
      "|   1    | 0.11046119235095614  | 0.08817682130393037 |\n",
      "|   2    | 0.12002249718785152  | 0.19686502099325487 |\n",
      "|   3    | 0.10633670791151106  |  0.2573887055326878 |\n",
      "|   4    | 0.09302587176602921  |  0.2959476356664205 |\n",
      "|   5    | 0.08386951631046118  | 0.33147748015014594 |\n",
      "|   6    |  0.0757105361829773  | 0.35736406575551655 |\n",
      "|   7    | 0.06846858428410726  | 0.37483902424284854 |\n",
      "|   8    | 0.06351518560179988  | 0.39625474013550493 |\n",
      "|   9    | 0.060934258217722935 | 0.42894502884941565 |\n",
      "|   10   | 0.05756717910261227  |  0.4490762624452161 |\n",
      "+--------+----------------------+---------------------+\n",
      "[10 rows x 3 columns]\n",
      "\n",
      "\n",
      "Overall RMSE: 1.4664400913070201\n",
      "\n",
      "Per User RMSE (best)\n",
      "+-------------+---------------------+-------+\n",
      "| Customer_ID |         rmse        | count |\n",
      "+-------------+---------------------+-------+\n",
      "|    10406    | 0.08905472358067834 |   1   |\n",
      "+-------------+---------------------+-------+\n",
      "[1 rows x 3 columns]\n",
      "\n",
      "\n",
      "Per User RMSE (worst)\n",
      "+-------------+-------------------+-------+\n",
      "| Customer_ID |        rmse       | count |\n",
      "+-------------+-------------------+-------+\n",
      "|     2683    | 7.914269328117371 |   1   |\n",
      "+-------------+-------------------+-------+\n",
      "[1 rows x 3 columns]\n",
      "\n",
      "\n",
      "Per Item RMSE (best)\n",
      "+---------------+--------------------+-------+\n",
      "| Menu_Category |        rmse        | count |\n",
      "+---------------+--------------------+-------+\n",
      "|  Small Bites  | 0.9333083858824162 |  304  |\n",
      "+---------------+--------------------+-------+\n",
      "[1 rows x 3 columns]\n",
      "\n",
      "\n",
      "Per Item RMSE (worst)\n",
      "+---------------+--------------------+-------+\n",
      "| Menu_Category |        rmse        | count |\n",
      "+---------------+--------------------+-------+\n",
      "|  Almond Drink | 2.3722329133404956 |  219  |\n",
      "+---------------+--------------------+-------+\n",
      "[1 rows x 3 columns]\n",
      "\n",
      "PROGRESS: Evaluate model pearson\n"
     ]
    },
    {
     "data": {
      "text/html": [
       "<pre>recommendations finished on 1000/4445 queries. users per second: 210793</pre>"
      ],
      "text/plain": [
       "recommendations finished on 1000/4445 queries. users per second: 210793"
      ]
     },
     "metadata": {},
     "output_type": "display_data"
    },
    {
     "data": {
      "text/html": [
       "<pre>recommendations finished on 2000/4445 queries. users per second: 187705</pre>"
      ],
      "text/plain": [
       "recommendations finished on 2000/4445 queries. users per second: 187705"
      ]
     },
     "metadata": {},
     "output_type": "display_data"
    },
    {
     "data": {
      "text/html": [
       "<pre>recommendations finished on 3000/4445 queries. users per second: 239044</pre>"
      ],
      "text/plain": [
       "recommendations finished on 3000/4445 queries. users per second: 239044"
      ]
     },
     "metadata": {},
     "output_type": "display_data"
    },
    {
     "data": {
      "text/html": [
       "<pre>recommendations finished on 4000/4445 queries. users per second: 280859</pre>"
      ],
      "text/plain": [
       "recommendations finished on 4000/4445 queries. users per second: 280859"
      ]
     },
     "metadata": {},
     "output_type": "display_data"
    },
    {
     "name": "stdout",
     "output_type": "stream",
     "text": [
      "\n",
      "Precision and recall summary statistics by cutoff\n",
      "+--------+----------------------+----------------------+\n",
      "| cutoff |    mean_precision    |     mean_recall      |\n",
      "+--------+----------------------+----------------------+\n",
      "|   1    | 0.025871766029246342 | 0.018568571785669667 |\n",
      "|   2    | 0.042294713160854924 |  0.0637129287410503  |\n",
      "|   3    | 0.03599550056242971  | 0.08083918081668359  |\n",
      "|   4    | 0.03695163104611925  | 0.11007677611727104  |\n",
      "|   5    | 0.03586051743532064  | 0.13405127930437274  |\n",
      "|   6    | 0.033903262092238436 | 0.15129162426125303  |\n",
      "|   7    | 0.03276233327976854  | 0.17087917581730866  |\n",
      "|   8    | 0.036377952755905565 |  0.2207471387505136  |\n",
      "|   9    | 0.035912385951756276 | 0.24401190922563254  |\n",
      "|   10   | 0.03794963129608793  | 0.28575633402967476  |\n",
      "+--------+----------------------+----------------------+\n",
      "[10 rows x 3 columns]\n",
      "\n",
      "\n",
      "Overall RMSE: 0.6614224945597964\n",
      "\n",
      "Per User RMSE (best)\n",
      "+-------------+----------------------+-------+\n",
      "| Customer_ID |         rmse         | count |\n",
      "+-------------+----------------------+-------+\n",
      "|     1375    | 0.004427394022082254 |   1   |\n",
      "+-------------+----------------------+-------+\n",
      "[1 rows x 3 columns]\n",
      "\n",
      "\n",
      "Per User RMSE (worst)\n",
      "+-------------+-------------------+-------+\n",
      "| Customer_ID |        rmse       | count |\n",
      "+-------------+-------------------+-------+\n",
      "|     2683    | 6.182559957707129 |   1   |\n",
      "+-------------+-------------------+-------+\n",
      "[1 rows x 3 columns]\n",
      "\n",
      "\n",
      "Per Item RMSE (best)\n",
      "+---------------+--------------------+-------+\n",
      "| Menu_Category |        rmse        | count |\n",
      "+---------------+--------------------+-------+\n",
      "|  Small Bites  | 0.1000229308360129 |  304  |\n",
      "+---------------+--------------------+-------+\n",
      "[1 rows x 3 columns]\n",
      "\n",
      "\n",
      "Per Item RMSE (worst)\n",
      "+---------------+--------------------+-------+\n",
      "| Menu_Category |        rmse        | count |\n",
      "+---------------+--------------------+-------+\n",
      "|     Fluffy    | 1.1445447707470235 |  415  |\n",
      "+---------------+--------------------+-------+\n",
      "[1 rows x 3 columns]\n",
      "\n"
     ]
    }
   ],
   "source": [
    "# the parimary evaluation\n",
    "eva_model = [m_1_pop, m_1_cos, m_1_per]\n",
    "eva = tc.recommender.util.compare_models(test, eva_model, model_names=['popularity', 'cosine', 'pearson'])"
   ]
  },
  {
   "cell_type": "code",
   "execution_count": 264,
   "metadata": {},
   "outputs": [],
   "source": [
    "# s2\n",
    "Zip_result = pd.DataFrame()\n",
    "n_recomm = 3\n",
    "for i in train_2.Zip_cd.value_counts().index:\n",
    "    for j in train_2.Weather.value_counts().index:\n",
    "        temp = train_2[(train_2.Zip_cd==i) & (train_2.Weather==j)].nlargest(3, 'Quantity')\n",
    "        Zip_result = Zip_result.append(temp)"
   ]
  },
  {
   "cell_type": "code",
   "execution_count": 265,
   "metadata": {},
   "outputs": [
    {
     "data": {
      "text/html": [
       "<div>\n",
       "<style scoped>\n",
       "    .dataframe tbody tr th:only-of-type {\n",
       "        vertical-align: middle;\n",
       "    }\n",
       "\n",
       "    .dataframe tbody tr th {\n",
       "        vertical-align: top;\n",
       "    }\n",
       "\n",
       "    .dataframe thead th {\n",
       "        text-align: right;\n",
       "    }\n",
       "</style>\n",
       "<table border=\"1\" class=\"dataframe\">\n",
       "  <thead>\n",
       "    <tr style=\"text-align: right;\">\n",
       "      <th></th>\n",
       "      <th>Zip_cd</th>\n",
       "      <th>Weather</th>\n",
       "      <th>Menu_Category</th>\n",
       "      <th>Quantity</th>\n",
       "    </tr>\n",
       "  </thead>\n",
       "  <tbody>\n",
       "    <tr>\n",
       "      <th>575</th>\n",
       "      <td>70569</td>\n",
       "      <td>rainy</td>\n",
       "      <td>Almond Drink</td>\n",
       "      <td>129</td>\n",
       "    </tr>\n",
       "    <tr>\n",
       "      <th>589</th>\n",
       "      <td>70569</td>\n",
       "      <td>rainy</td>\n",
       "      <td>Tofu Pudding</td>\n",
       "      <td>91</td>\n",
       "    </tr>\n",
       "    <tr>\n",
       "      <th>582</th>\n",
       "      <td>70569</td>\n",
       "      <td>rainy</td>\n",
       "      <td>Herbal Teas</td>\n",
       "      <td>62</td>\n",
       "    </tr>\n",
       "    <tr>\n",
       "      <th>600</th>\n",
       "      <td>70569</td>\n",
       "      <td>sunny</td>\n",
       "      <td>Shaved Ice</td>\n",
       "      <td>281</td>\n",
       "    </tr>\n",
       "    <tr>\n",
       "      <th>595</th>\n",
       "      <td>70569</td>\n",
       "      <td>sunny</td>\n",
       "      <td>Fluffy</td>\n",
       "      <td>243</td>\n",
       "    </tr>\n",
       "    <tr>\n",
       "      <th>...</th>\n",
       "      <td>...</td>\n",
       "      <td>...</td>\n",
       "      <td>...</td>\n",
       "      <td>...</td>\n",
       "    </tr>\n",
       "    <tr>\n",
       "      <th>866</th>\n",
       "      <td>70574</td>\n",
       "      <td>cloudy</td>\n",
       "      <td>Shaved Ice</td>\n",
       "      <td>21</td>\n",
       "    </tr>\n",
       "    <tr>\n",
       "      <th>867</th>\n",
       "      <td>70574</td>\n",
       "      <td>cloudy</td>\n",
       "      <td>Signature Series</td>\n",
       "      <td>20</td>\n",
       "    </tr>\n",
       "    <tr>\n",
       "      <th>910</th>\n",
       "      <td>70574</td>\n",
       "      <td>windy</td>\n",
       "      <td>Signature Series</td>\n",
       "      <td>39</td>\n",
       "    </tr>\n",
       "    <tr>\n",
       "      <th>909</th>\n",
       "      <td>70574</td>\n",
       "      <td>windy</td>\n",
       "      <td>Shaved Ice</td>\n",
       "      <td>24</td>\n",
       "    </tr>\n",
       "    <tr>\n",
       "      <th>903</th>\n",
       "      <td>70574</td>\n",
       "      <td>windy</td>\n",
       "      <td>Dessert Combo</td>\n",
       "      <td>19</td>\n",
       "    </tr>\n",
       "  </tbody>\n",
       "</table>\n",
       "<p>240 rows × 4 columns</p>\n",
       "</div>"
      ],
      "text/plain": [
       "     Zip_cd Weather     Menu_Category  Quantity\n",
       "575   70569   rainy      Almond Drink       129\n",
       "589   70569   rainy      Tofu Pudding        91\n",
       "582   70569   rainy       Herbal Teas        62\n",
       "600   70569   sunny        Shaved Ice       281\n",
       "595   70569   sunny            Fluffy       243\n",
       "..      ...     ...               ...       ...\n",
       "866   70574  cloudy        Shaved Ice        21\n",
       "867   70574  cloudy  Signature Series        20\n",
       "910   70574   windy  Signature Series        39\n",
       "909   70574   windy        Shaved Ice        24\n",
       "903   70574   windy     Dessert Combo        19\n",
       "\n",
       "[240 rows x 4 columns]"
      ]
     },
     "execution_count": 265,
     "metadata": {},
     "output_type": "execute_result"
    }
   ],
   "source": [
    "# Zip_result is the recommendation result of scenario 2\n",
    "Zip_result"
   ]
  },
  {
   "cell_type": "code",
   "execution_count": 269,
   "metadata": {},
   "outputs": [],
   "source": [
    "# s3\n",
    "W_result = pd.DataFrame()\n",
    "n_recomm = 3\n",
    "for j in train_3.Weather.value_counts().index:\n",
    "    temp = train_3[(train_3.Weather==j)].nlargest(3, 'Quantity')\n",
    "    W_result = W_result.append(temp)"
   ]
  },
  {
   "cell_type": "code",
   "execution_count": 270,
   "metadata": {},
   "outputs": [
    {
     "data": {
      "text/html": [
       "<div>\n",
       "<style scoped>\n",
       "    .dataframe tbody tr th:only-of-type {\n",
       "        vertical-align: middle;\n",
       "    }\n",
       "\n",
       "    .dataframe tbody tr th {\n",
       "        vertical-align: top;\n",
       "    }\n",
       "\n",
       "    .dataframe thead th {\n",
       "        text-align: right;\n",
       "    }\n",
       "</style>\n",
       "<table border=\"1\" class=\"dataframe\">\n",
       "  <thead>\n",
       "    <tr style=\"text-align: right;\">\n",
       "      <th></th>\n",
       "      <th>Weather</th>\n",
       "      <th>Menu_Category</th>\n",
       "      <th>Quantity</th>\n",
       "    </tr>\n",
       "  </thead>\n",
       "  <tbody>\n",
       "    <tr>\n",
       "      <th>41</th>\n",
       "      <td>sunny</td>\n",
       "      <td>Shaved Ice</td>\n",
       "      <td>3293</td>\n",
       "    </tr>\n",
       "    <tr>\n",
       "      <th>36</th>\n",
       "      <td>sunny</td>\n",
       "      <td>Fluffy</td>\n",
       "      <td>2445</td>\n",
       "    </tr>\n",
       "    <tr>\n",
       "      <th>37</th>\n",
       "      <td>sunny</td>\n",
       "      <td>Fresh Milk</td>\n",
       "      <td>1981</td>\n",
       "    </tr>\n",
       "    <tr>\n",
       "      <th>30</th>\n",
       "      <td>rainy</td>\n",
       "      <td>Tofu Pudding</td>\n",
       "      <td>1029</td>\n",
       "    </tr>\n",
       "    <tr>\n",
       "      <th>16</th>\n",
       "      <td>rainy</td>\n",
       "      <td>Almond Drink</td>\n",
       "      <td>990</td>\n",
       "    </tr>\n",
       "    <tr>\n",
       "      <th>26</th>\n",
       "      <td>rainy</td>\n",
       "      <td>Signature Series</td>\n",
       "      <td>828</td>\n",
       "    </tr>\n",
       "    <tr>\n",
       "      <th>10</th>\n",
       "      <td>cloudy</td>\n",
       "      <td>Signature Series</td>\n",
       "      <td>922</td>\n",
       "    </tr>\n",
       "    <tr>\n",
       "      <th>8</th>\n",
       "      <td>cloudy</td>\n",
       "      <td>Milk Teas</td>\n",
       "      <td>570</td>\n",
       "    </tr>\n",
       "    <tr>\n",
       "      <th>2</th>\n",
       "      <td>cloudy</td>\n",
       "      <td>Dessert Combo</td>\n",
       "      <td>541</td>\n",
       "    </tr>\n",
       "    <tr>\n",
       "      <th>58</th>\n",
       "      <td>windy</td>\n",
       "      <td>Signature Series</td>\n",
       "      <td>1305</td>\n",
       "    </tr>\n",
       "    <tr>\n",
       "      <th>50</th>\n",
       "      <td>windy</td>\n",
       "      <td>Dessert Combo</td>\n",
       "      <td>818</td>\n",
       "    </tr>\n",
       "    <tr>\n",
       "      <th>56</th>\n",
       "      <td>windy</td>\n",
       "      <td>Milk Teas</td>\n",
       "      <td>767</td>\n",
       "    </tr>\n",
       "  </tbody>\n",
       "</table>\n",
       "</div>"
      ],
      "text/plain": [
       "   Weather     Menu_Category  Quantity\n",
       "41   sunny        Shaved Ice      3293\n",
       "36   sunny            Fluffy      2445\n",
       "37   sunny        Fresh Milk      1981\n",
       "30   rainy      Tofu Pudding      1029\n",
       "16   rainy      Almond Drink       990\n",
       "26   rainy  Signature Series       828\n",
       "10  cloudy  Signature Series       922\n",
       "8   cloudy         Milk Teas       570\n",
       "2   cloudy     Dessert Combo       541\n",
       "58   windy  Signature Series      1305\n",
       "50   windy     Dessert Combo       818\n",
       "56   windy         Milk Teas       767"
      ]
     },
     "execution_count": 270,
     "metadata": {},
     "output_type": "execute_result"
    }
   ],
   "source": [
    "# W_result is the recommendation result of scenario 3\n",
    "W_result"
   ]
  },
  {
   "cell_type": "code",
   "execution_count": null,
   "metadata": {},
   "outputs": [],
   "source": []
  }
 ],
 "metadata": {
  "kernelspec": {
   "display_name": "Python 3",
   "language": "python",
   "name": "python3"
  },
  "language_info": {
   "codemirror_mode": {
    "name": "ipython",
    "version": 3
   },
   "file_extension": ".py",
   "mimetype": "text/x-python",
   "name": "python",
   "nbconvert_exporter": "python",
   "pygments_lexer": "ipython3",
   "version": "3.8.8"
  }
 },
 "nbformat": 4,
 "nbformat_minor": 4
}
